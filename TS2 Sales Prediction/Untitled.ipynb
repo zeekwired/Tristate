{
 "cells": [
  {
   "cell_type": "code",
   "execution_count": 1,
   "id": "aebc8c4c-1922-4e54-9c12-d260dec78380",
   "metadata": {},
   "outputs": [],
   "source": [
    "import pandas as pd\n",
    "import numpy as np\n",
    "import matplotlib.pyplot as plt\n",
    "import seaborn as sns"
   ]
  },
  {
   "cell_type": "code",
   "execution_count": 5,
   "id": "fa9f47b2-eb19-45e9-a16c-f73457f2bc7d",
   "metadata": {},
   "outputs": [
    {
     "ename": "SyntaxError",
     "evalue": "(unicode error) 'unicodeescape' codec can't decode bytes in position 2-3: truncated \\UXXXXXXXX escape (966741288.py, line 1)",
     "output_type": "error",
     "traceback": [
      "\u001b[1;36m  File \u001b[1;32m\"C:\\Users\\zachd\\AppData\\Local\\Temp\\ipykernel_13180\\966741288.py\"\u001b[1;36m, line \u001b[1;32m1\u001b[0m\n\u001b[1;33m    df_jan = pd.read_csv('C:\\Users\\zachd\\Documents\\GitHub\\Tristate\\TS2 Sales Prediction\\Rockauto Weborfer Sales Jan.csv', encoding='unicode_escape')\u001b[0m\n\u001b[1;37m                                                                                                                        ^\u001b[0m\n\u001b[1;31mSyntaxError\u001b[0m\u001b[1;31m:\u001b[0m (unicode error) 'unicodeescape' codec can't decode bytes in position 2-3: truncated \\UXXXXXXXX escape\n"
     ]
    }
   ],
   "source": [
    "df_jan = pd.read_csv('C:\\Users\\zachd\\Documents\\GitHub\\Tristate\\TS2 Sales Prediction\\Rockauto Weborfer Sales Jan.csv', encoding='unicode_escape')\n",
    "df_nov = pd.read_csv('C:\\Users\\zachd\\Documents\\GitHub\\Tristate\\TS2 Sales Prediction\\Rockauto Weborder Sales Nov.csv', encoding='unicode_escape')"
   ]
  }
 ],
 "metadata": {
  "kernelspec": {
   "display_name": "Python 3",
   "language": "python",
   "name": "python3"
  },
  "language_info": {
   "codemirror_mode": {
    "name": "ipython",
    "version": 3
   },
   "file_extension": ".py",
   "mimetype": "text/x-python",
   "name": "python",
   "nbconvert_exporter": "python",
   "pygments_lexer": "ipython3",
   "version": "3.9.13"
  },
  "vscode": {
   "interpreter": {
    "hash": "48cf4348219c3ab1ead58f7e0a62f92281d5c6fe8aba13a26eacf1fef90ff667"
   }
  }
 },
 "nbformat": 4,
 "nbformat_minor": 5
}
