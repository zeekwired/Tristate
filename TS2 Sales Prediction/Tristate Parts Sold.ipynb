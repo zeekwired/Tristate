{
 "cells": [
  {
   "cell_type": "code",
   "execution_count": 3,
   "metadata": {
    "ExecuteTime": {
     "end_time": "2023-02-13T17:01:55.162641Z",
     "start_time": "2023-02-13T17:01:55.159794Z"
    }
   },
   "outputs": [],
   "source": [
    "import pandas as pd\n",
    "import numpy as np\n",
    "import matplotlib.pyplot as plt\n",
    "import seaborn as sns"
   ]
  },
  {
   "cell_type": "code",
   "execution_count": 4,
   "metadata": {
    "ExecuteTime": {
     "end_time": "2023-02-13T17:01:56.315622Z",
     "start_time": "2023-02-13T17:01:55.164463Z"
    }
   },
   "outputs": [],
   "source": [
    "ts1 = pd.read_csv(r\"Data/TS1.csv\", encoding='unicode_escape')\n",
    "ts2 = pd.read_csv(r\"Data/TS2.csv\", encoding='unicode_escape')\n",
    "ts8 = pd.read_csv(r\"Data/TS8.csv\", encoding='unicode_escape', on_bad_lines='skip', low_memory=False)"
   ]
  },
  {
   "cell_type": "markdown",
   "metadata": {},
   "source": [
    "## Data Cleaning"
   ]
  },
  {
   "cell_type": "code",
   "execution_count": 5,
   "metadata": {
    "ExecuteTime": {
     "end_time": "2023-02-13T17:01:56.328283Z",
     "start_time": "2023-02-13T17:01:56.315622Z"
    }
   },
   "outputs": [
    {
     "data": {
      "text/html": [
       "<div>\n",
       "<style scoped>\n",
       "    .dataframe tbody tr th:only-of-type {\n",
       "        vertical-align: middle;\n",
       "    }\n",
       "\n",
       "    .dataframe tbody tr th {\n",
       "        vertical-align: top;\n",
       "    }\n",
       "\n",
       "    .dataframe thead th {\n",
       "        text-align: right;\n",
       "    }\n",
       "</style>\n",
       "<table border=\"1\" class=\"dataframe\">\n",
       "  <thead>\n",
       "    <tr style=\"text-align: right;\">\n",
       "      <th></th>\n",
       "      <th>Rep</th>\n",
       "      <th>Cust</th>\n",
       "      <th>Customer Name</th>\n",
       "      <th>Group</th>\n",
       "      <th>Part Number</th>\n",
       "      <th>Description</th>\n",
       "      <th>Doc</th>\n",
       "      <th>Line</th>\n",
       "      <th>Date</th>\n",
       "      <th>Time</th>\n",
       "      <th>Qty</th>\n",
       "      <th>Unit</th>\n",
       "      <th>Disc%</th>\n",
       "      <th>Cost</th>\n",
       "      <th>Range</th>\n",
       "    </tr>\n",
       "  </thead>\n",
       "  <tbody>\n",
       "    <tr>\n",
       "      <th>0</th>\n",
       "      <td>2</td>\n",
       "      <td>193750</td>\n",
       "      <td>ROCK AUTO LLC</td>\n",
       "      <td>ACC</td>\n",
       "      <td>ACC31019</td>\n",
       "      <td>LITERIDER 73-96 F-Series</td>\n",
       "      <td>01V4661208</td>\n",
       "      <td>1</td>\n",
       "      <td>Nov 07 22</td>\n",
       "      <td>08:22</td>\n",
       "      <td>1</td>\n",
       "      <td>308.74</td>\n",
       "      <td>NaN</td>\n",
       "      <td>262.33</td>\n",
       "      <td>0028</td>\n",
       "    </tr>\n",
       "    <tr>\n",
       "      <th>1</th>\n",
       "      <td>2</td>\n",
       "      <td>193750</td>\n",
       "      <td>ROCK AUTO LLC</td>\n",
       "      <td>ACC</td>\n",
       "      <td>ACC31029</td>\n",
       "      <td>LITERIDER 73-96 F-Series</td>\n",
       "      <td>01V4786521</td>\n",
       "      <td>2</td>\n",
       "      <td>Jan 04 23</td>\n",
       "      <td>16:33</td>\n",
       "      <td>1</td>\n",
       "      <td>296.23</td>\n",
       "      <td>NaN</td>\n",
       "      <td>248.63</td>\n",
       "      <td>0028</td>\n",
       "    </tr>\n",
       "    <tr>\n",
       "      <th>2</th>\n",
       "      <td>2</td>\n",
       "      <td>193750</td>\n",
       "      <td>ROCK AUTO LLC</td>\n",
       "      <td>ACC</td>\n",
       "      <td>ACC31109</td>\n",
       "      <td>LITERIDER 82-11 Ranger &amp;</td>\n",
       "      <td>01V4689424</td>\n",
       "      <td>1</td>\n",
       "      <td>Nov 20 22</td>\n",
       "      <td>15:23</td>\n",
       "      <td>1</td>\n",
       "      <td>283.15</td>\n",
       "      <td>NaN</td>\n",
       "      <td>237.97</td>\n",
       "      <td>0028</td>\n",
       "    </tr>\n",
       "    <tr>\n",
       "      <th>3</th>\n",
       "      <td>2</td>\n",
       "      <td>193750</td>\n",
       "      <td>ROCK AUTO LLC</td>\n",
       "      <td>ACC</td>\n",
       "      <td>ACC31109</td>\n",
       "      <td>LITERIDER 82-11 Ranger &amp;</td>\n",
       "      <td>01V4771133</td>\n",
       "      <td>1</td>\n",
       "      <td>Dec 29 22</td>\n",
       "      <td>08:28</td>\n",
       "      <td>1</td>\n",
       "      <td>283.15</td>\n",
       "      <td>NaN</td>\n",
       "      <td>236.97</td>\n",
       "      <td>0028</td>\n",
       "    </tr>\n",
       "    <tr>\n",
       "      <th>4</th>\n",
       "      <td>2</td>\n",
       "      <td>193750</td>\n",
       "      <td>ROCK AUTO LLC</td>\n",
       "      <td>ACC</td>\n",
       "      <td>ACC31129</td>\n",
       "      <td>LITERIDER 01-06 Explorer</td>\n",
       "      <td>01V4683310</td>\n",
       "      <td>1</td>\n",
       "      <td>Nov 16 22</td>\n",
       "      <td>15:27</td>\n",
       "      <td>1</td>\n",
       "      <td>283.15</td>\n",
       "      <td>NaN</td>\n",
       "      <td>243.50</td>\n",
       "      <td>0028</td>\n",
       "    </tr>\n",
       "  </tbody>\n",
       "</table>\n",
       "</div>"
      ],
      "text/plain": [
       "   Rep    Cust  Customer Name Group Part Number               Description  \\\n",
       "0    2  193750  ROCK AUTO LLC   ACC    ACC31019  LITERIDER 73-96 F-Series   \n",
       "1    2  193750  ROCK AUTO LLC   ACC    ACC31029  LITERIDER 73-96 F-Series   \n",
       "2    2  193750  ROCK AUTO LLC   ACC    ACC31109  LITERIDER 82-11 Ranger &   \n",
       "3    2  193750  ROCK AUTO LLC   ACC    ACC31109  LITERIDER 82-11 Ranger &   \n",
       "4    2  193750  ROCK AUTO LLC   ACC    ACC31129  LITERIDER 01-06 Explorer   \n",
       "\n",
       "          Doc  Line       Date   Time  Qty    Unit  Disc%    Cost Range  \n",
       "0  01V4661208     1  Nov 07 22  08:22    1  308.74    NaN  262.33  0028  \n",
       "1  01V4786521     2  Jan 04 23  16:33    1  296.23    NaN  248.63  0028  \n",
       "2  01V4689424     1  Nov 20 22  15:23    1  283.15    NaN  237.97  0028  \n",
       "3  01V4771133     1  Dec 29 22  08:28    1  283.15    NaN  236.97  0028  \n",
       "4  01V4683310     1  Nov 16 22  15:27    1  283.15    NaN  243.50  0028  "
      ]
     },
     "execution_count": 5,
     "metadata": {},
     "output_type": "execute_result"
    }
   ],
   "source": [
    "ts1.head()"
   ]
  },
  {
   "cell_type": "code",
   "execution_count": 6,
   "metadata": {
    "ExecuteTime": {
     "end_time": "2023-02-13T17:01:56.379829Z",
     "start_time": "2023-02-13T17:01:56.328283Z"
    }
   },
   "outputs": [],
   "source": [
    "ts1.drop(columns=['Rep', 'Cust', 'Customer Name', 'Description', 'Doc', 'Disc%', 'Range'], inplace=True)\n",
    "ts2.drop(columns=['Rep', 'Cust', 'Customer Name', 'Description', 'Doc', 'Disc%', 'Range'], inplace=True)\n",
    "ts8.drop(columns=['Rep', 'Cust', 'Customer Name', 'Description', 'Doc', 'Disc%', 'Range'], inplace=True)"
   ]
  },
  {
   "cell_type": "code",
   "execution_count": 7,
   "metadata": {
    "ExecuteTime": {
     "end_time": "2023-02-13T17:01:56.588302Z",
     "start_time": "2023-02-13T17:01:56.379829Z"
    }
   },
   "outputs": [
    {
     "name": "stdout",
     "output_type": "stream",
     "text": [
      "Missing Values: Group          8\n",
      "Part Number    0\n",
      "Line           0\n",
      "Date           0\n",
      "Time           0\n",
      "Qty            0\n",
      "Unit           0\n",
      "Cost           0\n",
      "dtype: int64\n",
      "Missing Values: Group          1\n",
      "Part Number    0\n",
      "Line           0\n",
      "Date           0\n",
      "Time           0\n",
      "Qty            0\n",
      "Unit           0\n",
      "Cost           0\n",
      "dtype: int64\n",
      "Missing Values: Group           1\n",
      "Part Number     0\n",
      "Line            0\n",
      "Date            0\n",
      "Time            0\n",
      "Qty             0\n",
      "Unit           21\n",
      "Cost            0\n",
      "dtype: int64\n"
     ]
    }
   ],
   "source": [
    "df_list = [ts1, ts2, ts8]\n",
    "\n",
    "for i in df_list:\n",
    "    print(f'Missing Values: {i.isnull().sum()}')"
   ]
  },
  {
   "cell_type": "code",
   "execution_count": 8,
   "metadata": {
    "ExecuteTime": {
     "end_time": "2023-02-13T17:01:56.829441Z",
     "start_time": "2023-02-13T17:01:56.589647Z"
    }
   },
   "outputs": [],
   "source": [
    "for i in df_list:\n",
    "    i.dropna(inplace=True)"
   ]
  },
  {
   "cell_type": "code",
   "execution_count": 9,
   "metadata": {
    "ExecuteTime": {
     "end_time": "2023-02-13T17:01:57.037032Z",
     "start_time": "2023-02-13T17:01:56.829441Z"
    }
   },
   "outputs": [
    {
     "name": "stdout",
     "output_type": "stream",
     "text": [
      "Missing Values: Group          0\n",
      "Part Number    0\n",
      "Line           0\n",
      "Date           0\n",
      "Time           0\n",
      "Qty            0\n",
      "Unit           0\n",
      "Cost           0\n",
      "dtype: int64\n",
      "Missing Values: Group          0\n",
      "Part Number    0\n",
      "Line           0\n",
      "Date           0\n",
      "Time           0\n",
      "Qty            0\n",
      "Unit           0\n",
      "Cost           0\n",
      "dtype: int64\n",
      "Missing Values: Group          0\n",
      "Part Number    0\n",
      "Line           0\n",
      "Date           0\n",
      "Time           0\n",
      "Qty            0\n",
      "Unit           0\n",
      "Cost           0\n",
      "dtype: int64\n"
     ]
    }
   ],
   "source": [
    "df_list = [ts1, ts2, ts8]\n",
    "\n",
    "for i in df_list:\n",
    "    print(f'Missing Values: {i.isnull().sum()}')"
   ]
  },
  {
   "cell_type": "code",
   "execution_count": 10,
   "metadata": {
    "ExecuteTime": {
     "end_time": "2023-02-13T17:01:57.276390Z",
     "start_time": "2023-02-13T17:01:57.037032Z"
    }
   },
   "outputs": [
    {
     "name": "stdout",
     "output_type": "stream",
     "text": [
      "Duplicate Values: 737\n",
      "Duplicate Values: 639\n",
      "Duplicate Values: 540\n"
     ]
    }
   ],
   "source": [
    "for i in df_list:\n",
    "    print(f'Duplicate Values: {i.duplicated().sum()}')"
   ]
  },
  {
   "cell_type": "code",
   "execution_count": 11,
   "metadata": {
    "ExecuteTime": {
     "end_time": "2023-02-13T17:01:57.596829Z",
     "start_time": "2023-02-13T17:01:57.277834Z"
    }
   },
   "outputs": [],
   "source": [
    "for i in df_list:\n",
    "    i.drop_duplicates(inplace=True)"
   ]
  },
  {
   "cell_type": "code",
   "execution_count": 12,
   "metadata": {
    "ExecuteTime": {
     "end_time": "2023-02-13T17:01:57.867541Z",
     "start_time": "2023-02-13T17:01:57.598329Z"
    }
   },
   "outputs": [
    {
     "name": "stdout",
     "output_type": "stream",
     "text": [
      "Duplicate Values: 0\n",
      "Duplicate Values: 0\n",
      "Duplicate Values: 0\n"
     ]
    }
   ],
   "source": [
    "for i in df_list:\n",
    "    print(f'Duplicate Values: {i.duplicated().sum()}')"
   ]
  },
  {
   "cell_type": "code",
   "execution_count": 13,
   "metadata": {
    "ExecuteTime": {
     "end_time": "2023-02-13T17:01:58.086345Z",
     "start_time": "2023-02-13T17:01:57.867541Z"
    }
   },
   "outputs": [
    {
     "name": "stdout",
     "output_type": "stream",
     "text": [
      "<class 'pandas.core.frame.DataFrame'>\n",
      "Int64Index: 222302 entries, 0 to 223046\n",
      "Data columns (total 8 columns):\n",
      " #   Column       Non-Null Count   Dtype  \n",
      "---  ------       --------------   -----  \n",
      " 0   Group        222302 non-null  object \n",
      " 1   Part Number  222302 non-null  object \n",
      " 2   Line         222302 non-null  int64  \n",
      " 3   Date         222302 non-null  object \n",
      " 4   Time         222302 non-null  object \n",
      " 5   Qty          222302 non-null  int64  \n",
      " 6   Unit         222302 non-null  float64\n",
      " 7   Cost         222302 non-null  float64\n",
      "dtypes: float64(2), int64(2), object(4)\n",
      "memory usage: 15.3+ MB\n",
      "None\n",
      "<class 'pandas.core.frame.DataFrame'>\n",
      "Int64Index: 163148 entries, 0 to 163787\n",
      "Data columns (total 8 columns):\n",
      " #   Column       Non-Null Count   Dtype  \n",
      "---  ------       --------------   -----  \n",
      " 0   Group        163148 non-null  object \n",
      " 1   Part Number  163148 non-null  object \n",
      " 2   Line         163148 non-null  int64  \n",
      " 3   Date         163148 non-null  object \n",
      " 4   Time         163148 non-null  object \n",
      " 5   Qty          163148 non-null  int64  \n",
      " 6   Unit         163148 non-null  float64\n",
      " 7   Cost         163148 non-null  float64\n",
      "dtypes: float64(2), int64(2), object(4)\n",
      "memory usage: 11.2+ MB\n",
      "None\n",
      "<class 'pandas.core.frame.DataFrame'>\n",
      "Int64Index: 179822 entries, 0 to 180383\n",
      "Data columns (total 8 columns):\n",
      " #   Column       Non-Null Count   Dtype  \n",
      "---  ------       --------------   -----  \n",
      " 0   Group        179822 non-null  object \n",
      " 1   Part Number  179822 non-null  object \n",
      " 2   Line         179822 non-null  object \n",
      " 3   Date         179822 non-null  object \n",
      " 4   Time         179822 non-null  object \n",
      " 5   Qty          179822 non-null  float64\n",
      " 6   Unit         179822 non-null  float64\n",
      " 7   Cost         179822 non-null  object \n",
      "dtypes: float64(2), object(6)\n",
      "memory usage: 12.3+ MB\n",
      "None\n"
     ]
    }
   ],
   "source": [
    "for i in df_list:\n",
    "    print(i.info())"
   ]
  },
  {
   "cell_type": "code",
   "execution_count": 14,
   "metadata": {
    "ExecuteTime": {
     "end_time": "2023-02-13T17:01:58.178189Z",
     "start_time": "2023-02-13T17:01:58.086345Z"
    }
   },
   "outputs": [],
   "source": [
    "for i in df_list:\n",
    "    i['Date'] = pd.to_datetime(i['Date'])"
   ]
  },
  {
   "cell_type": "code",
   "execution_count": 15,
   "metadata": {
    "ExecuteTime": {
     "end_time": "2023-02-13T17:01:58.188664Z",
     "start_time": "2023-02-13T17:01:58.179192Z"
    }
   },
   "outputs": [
    {
     "data": {
      "text/html": [
       "<div>\n",
       "<style scoped>\n",
       "    .dataframe tbody tr th:only-of-type {\n",
       "        vertical-align: middle;\n",
       "    }\n",
       "\n",
       "    .dataframe tbody tr th {\n",
       "        vertical-align: top;\n",
       "    }\n",
       "\n",
       "    .dataframe thead th {\n",
       "        text-align: right;\n",
       "    }\n",
       "</style>\n",
       "<table border=\"1\" class=\"dataframe\">\n",
       "  <thead>\n",
       "    <tr style=\"text-align: right;\">\n",
       "      <th></th>\n",
       "      <th>Group</th>\n",
       "      <th>Part Number</th>\n",
       "      <th>Line</th>\n",
       "      <th>Date</th>\n",
       "      <th>Time</th>\n",
       "      <th>Qty</th>\n",
       "      <th>Unit</th>\n",
       "      <th>Cost</th>\n",
       "    </tr>\n",
       "  </thead>\n",
       "  <tbody>\n",
       "    <tr>\n",
       "      <th>0</th>\n",
       "      <td>ACC</td>\n",
       "      <td>ACC31019</td>\n",
       "      <td>1</td>\n",
       "      <td>2022-11-07</td>\n",
       "      <td>08:22</td>\n",
       "      <td>1</td>\n",
       "      <td>308.74</td>\n",
       "      <td>262.33</td>\n",
       "    </tr>\n",
       "    <tr>\n",
       "      <th>1</th>\n",
       "      <td>ACC</td>\n",
       "      <td>ACC31029</td>\n",
       "      <td>2</td>\n",
       "      <td>2023-01-04</td>\n",
       "      <td>16:33</td>\n",
       "      <td>1</td>\n",
       "      <td>296.23</td>\n",
       "      <td>248.63</td>\n",
       "    </tr>\n",
       "    <tr>\n",
       "      <th>2</th>\n",
       "      <td>ACC</td>\n",
       "      <td>ACC31109</td>\n",
       "      <td>1</td>\n",
       "      <td>2022-11-20</td>\n",
       "      <td>15:23</td>\n",
       "      <td>1</td>\n",
       "      <td>283.15</td>\n",
       "      <td>237.97</td>\n",
       "    </tr>\n",
       "    <tr>\n",
       "      <th>3</th>\n",
       "      <td>ACC</td>\n",
       "      <td>ACC31109</td>\n",
       "      <td>1</td>\n",
       "      <td>2022-12-29</td>\n",
       "      <td>08:28</td>\n",
       "      <td>1</td>\n",
       "      <td>283.15</td>\n",
       "      <td>236.97</td>\n",
       "    </tr>\n",
       "    <tr>\n",
       "      <th>4</th>\n",
       "      <td>ACC</td>\n",
       "      <td>ACC31129</td>\n",
       "      <td>1</td>\n",
       "      <td>2022-11-16</td>\n",
       "      <td>15:27</td>\n",
       "      <td>1</td>\n",
       "      <td>283.15</td>\n",
       "      <td>243.50</td>\n",
       "    </tr>\n",
       "  </tbody>\n",
       "</table>\n",
       "</div>"
      ],
      "text/plain": [
       "  Group Part Number  Line       Date   Time  Qty    Unit    Cost\n",
       "0   ACC    ACC31019     1 2022-11-07  08:22    1  308.74  262.33\n",
       "1   ACC    ACC31029     2 2023-01-04  16:33    1  296.23  248.63\n",
       "2   ACC    ACC31109     1 2022-11-20  15:23    1  283.15  237.97\n",
       "3   ACC    ACC31109     1 2022-12-29  08:28    1  283.15  236.97\n",
       "4   ACC    ACC31129     1 2022-11-16  15:27    1  283.15  243.50"
      ]
     },
     "execution_count": 15,
     "metadata": {},
     "output_type": "execute_result"
    }
   ],
   "source": [
    "ts1.head()"
   ]
  },
  {
   "cell_type": "code",
   "execution_count": 16,
   "metadata": {
    "ExecuteTime": {
     "end_time": "2023-02-13T17:01:58.194743Z",
     "start_time": "2023-02-13T17:01:58.188664Z"
    }
   },
   "outputs": [],
   "source": [
    "ts1.set_index(['Group'], inplace=True)"
   ]
  },
  {
   "cell_type": "code",
   "execution_count": 17,
   "metadata": {
    "ExecuteTime": {
     "end_time": "2023-02-13T17:01:58.204643Z",
     "start_time": "2023-02-13T17:01:58.194743Z"
    }
   },
   "outputs": [
    {
     "data": {
      "text/html": [
       "<div>\n",
       "<style scoped>\n",
       "    .dataframe tbody tr th:only-of-type {\n",
       "        vertical-align: middle;\n",
       "    }\n",
       "\n",
       "    .dataframe tbody tr th {\n",
       "        vertical-align: top;\n",
       "    }\n",
       "\n",
       "    .dataframe thead th {\n",
       "        text-align: right;\n",
       "    }\n",
       "</style>\n",
       "<table border=\"1\" class=\"dataframe\">\n",
       "  <thead>\n",
       "    <tr style=\"text-align: right;\">\n",
       "      <th></th>\n",
       "      <th>Part Number</th>\n",
       "      <th>Line</th>\n",
       "      <th>Date</th>\n",
       "      <th>Time</th>\n",
       "      <th>Qty</th>\n",
       "      <th>Unit</th>\n",
       "      <th>Cost</th>\n",
       "    </tr>\n",
       "    <tr>\n",
       "      <th>Group</th>\n",
       "      <th></th>\n",
       "      <th></th>\n",
       "      <th></th>\n",
       "      <th></th>\n",
       "      <th></th>\n",
       "      <th></th>\n",
       "      <th></th>\n",
       "    </tr>\n",
       "  </thead>\n",
       "  <tbody>\n",
       "    <tr>\n",
       "      <th>ACC</th>\n",
       "      <td>ACC31019</td>\n",
       "      <td>1</td>\n",
       "      <td>2022-11-07</td>\n",
       "      <td>08:22</td>\n",
       "      <td>1</td>\n",
       "      <td>308.74</td>\n",
       "      <td>262.33</td>\n",
       "    </tr>\n",
       "    <tr>\n",
       "      <th>ACC</th>\n",
       "      <td>ACC31029</td>\n",
       "      <td>2</td>\n",
       "      <td>2023-01-04</td>\n",
       "      <td>16:33</td>\n",
       "      <td>1</td>\n",
       "      <td>296.23</td>\n",
       "      <td>248.63</td>\n",
       "    </tr>\n",
       "    <tr>\n",
       "      <th>ACC</th>\n",
       "      <td>ACC31109</td>\n",
       "      <td>1</td>\n",
       "      <td>2022-11-20</td>\n",
       "      <td>15:23</td>\n",
       "      <td>1</td>\n",
       "      <td>283.15</td>\n",
       "      <td>237.97</td>\n",
       "    </tr>\n",
       "    <tr>\n",
       "      <th>ACC</th>\n",
       "      <td>ACC31109</td>\n",
       "      <td>1</td>\n",
       "      <td>2022-12-29</td>\n",
       "      <td>08:28</td>\n",
       "      <td>1</td>\n",
       "      <td>283.15</td>\n",
       "      <td>236.97</td>\n",
       "    </tr>\n",
       "    <tr>\n",
       "      <th>ACC</th>\n",
       "      <td>ACC31129</td>\n",
       "      <td>1</td>\n",
       "      <td>2022-11-16</td>\n",
       "      <td>15:27</td>\n",
       "      <td>1</td>\n",
       "      <td>283.15</td>\n",
       "      <td>243.50</td>\n",
       "    </tr>\n",
       "  </tbody>\n",
       "</table>\n",
       "</div>"
      ],
      "text/plain": [
       "      Part Number  Line       Date   Time  Qty    Unit    Cost\n",
       "Group                                                         \n",
       "ACC      ACC31019     1 2022-11-07  08:22    1  308.74  262.33\n",
       "ACC      ACC31029     2 2023-01-04  16:33    1  296.23  248.63\n",
       "ACC      ACC31109     1 2022-11-20  15:23    1  283.15  237.97\n",
       "ACC      ACC31109     1 2022-12-29  08:28    1  283.15  236.97\n",
       "ACC      ACC31129     1 2022-11-16  15:27    1  283.15  243.50"
      ]
     },
     "execution_count": 17,
     "metadata": {},
     "output_type": "execute_result"
    }
   ],
   "source": [
    "ts1.head()"
   ]
  },
  {
   "cell_type": "code",
   "execution_count": null,
   "metadata": {
    "ExecuteTime": {
     "end_time": "2023-02-13T17:02:20.094270Z",
     "start_time": "2023-02-13T17:02:20.050447Z"
    }
   },
   "outputs": [
    {
     "data": {
      "text/html": [
       "<div>\n",
       "<style scoped>\n",
       "    .dataframe tbody tr th:only-of-type {\n",
       "        vertical-align: middle;\n",
       "    }\n",
       "\n",
       "    .dataframe tbody tr th {\n",
       "        vertical-align: top;\n",
       "    }\n",
       "\n",
       "    .dataframe thead th {\n",
       "        text-align: right;\n",
       "    }\n",
       "</style>\n",
       "<table border=\"1\" class=\"dataframe\">\n",
       "  <thead>\n",
       "    <tr style=\"text-align: right;\">\n",
       "      <th>Group</th>\n",
       "      <th>SKP</th>\n",
       "      <th>SKP</th>\n",
       "      <th>SKP</th>\n",
       "      <th>SKP</th>\n",
       "      <th>SKP</th>\n",
       "      <th>SKP</th>\n",
       "      <th>SKP</th>\n",
       "      <th>SKP</th>\n",
       "      <th>SKP</th>\n",
       "      <th>SKP</th>\n",
       "      <th>...</th>\n",
       "      <th>SKP</th>\n",
       "      <th>SKP</th>\n",
       "      <th>SKP</th>\n",
       "      <th>SKP</th>\n",
       "      <th>SKP</th>\n",
       "      <th>SKP</th>\n",
       "      <th>SKP</th>\n",
       "      <th>SKP</th>\n",
       "      <th>SKP</th>\n",
       "      <th>SKP</th>\n",
       "    </tr>\n",
       "  </thead>\n",
       "  <tbody>\n",
       "    <tr>\n",
       "      <th>Part Number</th>\n",
       "      <td>SKPS31129063163</td>\n",
       "      <td>SKPS31129063163</td>\n",
       "      <td>SKPS32106774318</td>\n",
       "      <td>SKPS32106774318</td>\n",
       "      <td>SKPS32106774318</td>\n",
       "      <td>SKPS32106774319</td>\n",
       "      <td>SKPS32106774319</td>\n",
       "      <td>SKPS32106774319</td>\n",
       "      <td>SKPSCK620061</td>\n",
       "      <td>SKPSCK620062</td>\n",
       "      <td>...</td>\n",
       "      <td>SKPSS10609</td>\n",
       "      <td>SKPSS10609</td>\n",
       "      <td>SKPSS10609</td>\n",
       "      <td>SKPSS10609</td>\n",
       "      <td>SKPSS10610</td>\n",
       "      <td>SKPSS10610</td>\n",
       "      <td>SKPSS10610</td>\n",
       "      <td>SKPSS10610</td>\n",
       "      <td>SKPSS251073</td>\n",
       "      <td>SKPSS251073</td>\n",
       "    </tr>\n",
       "    <tr>\n",
       "      <th>Line</th>\n",
       "      <td>2</td>\n",
       "      <td>1</td>\n",
       "      <td>1</td>\n",
       "      <td>2</td>\n",
       "      <td>1</td>\n",
       "      <td>2</td>\n",
       "      <td>2</td>\n",
       "      <td>1</td>\n",
       "      <td>2</td>\n",
       "      <td>20</td>\n",
       "      <td>...</td>\n",
       "      <td>2</td>\n",
       "      <td>2</td>\n",
       "      <td>3</td>\n",
       "      <td>2</td>\n",
       "      <td>1</td>\n",
       "      <td>1</td>\n",
       "      <td>2</td>\n",
       "      <td>1</td>\n",
       "      <td>1</td>\n",
       "      <td>2</td>\n",
       "    </tr>\n",
       "    <tr>\n",
       "      <th>Date</th>\n",
       "      <td>2022-11-21 00:00:00</td>\n",
       "      <td>2022-12-11 00:00:00</td>\n",
       "      <td>2022-11-22 00:00:00</td>\n",
       "      <td>2023-01-10 00:00:00</td>\n",
       "      <td>2023-01-10 00:00:00</td>\n",
       "      <td>2022-11-22 00:00:00</td>\n",
       "      <td>2023-01-09 00:00:00</td>\n",
       "      <td>2023-01-10 00:00:00</td>\n",
       "      <td>2023-01-08 00:00:00</td>\n",
       "      <td>2022-11-16 00:00:00</td>\n",
       "      <td>...</td>\n",
       "      <td>2022-11-30 00:00:00</td>\n",
       "      <td>2022-12-21 00:00:00</td>\n",
       "      <td>2023-01-15 00:00:00</td>\n",
       "      <td>2023-01-29 00:00:00</td>\n",
       "      <td>2022-11-01 00:00:00</td>\n",
       "      <td>2022-11-30 00:00:00</td>\n",
       "      <td>2023-01-15 00:00:00</td>\n",
       "      <td>2023-01-29 00:00:00</td>\n",
       "      <td>2022-11-08 00:00:00</td>\n",
       "      <td>2022-11-10 00:00:00</td>\n",
       "    </tr>\n",
       "    <tr>\n",
       "      <th>Time</th>\n",
       "      <td>09:07</td>\n",
       "      <td>19:50</td>\n",
       "      <td>08:08</td>\n",
       "      <td>08:22</td>\n",
       "      <td>08:50</td>\n",
       "      <td>08:08</td>\n",
       "      <td>16:28</td>\n",
       "      <td>08:22</td>\n",
       "      <td>18:50</td>\n",
       "      <td>15:29</td>\n",
       "      <td>...</td>\n",
       "      <td>16:12</td>\n",
       "      <td>08:24</td>\n",
       "      <td>20:08</td>\n",
       "      <td>15:37</td>\n",
       "      <td>08:16</td>\n",
       "      <td>16:12</td>\n",
       "      <td>20:08</td>\n",
       "      <td>15:37</td>\n",
       "      <td>12:01</td>\n",
       "      <td>08:36</td>\n",
       "    </tr>\n",
       "    <tr>\n",
       "      <th>Qty</th>\n",
       "      <td>1</td>\n",
       "      <td>1</td>\n",
       "      <td>1</td>\n",
       "      <td>1</td>\n",
       "      <td>1</td>\n",
       "      <td>1</td>\n",
       "      <td>1</td>\n",
       "      <td>1</td>\n",
       "      <td>1</td>\n",
       "      <td>2</td>\n",
       "      <td>...</td>\n",
       "      <td>1</td>\n",
       "      <td>1</td>\n",
       "      <td>1</td>\n",
       "      <td>1</td>\n",
       "      <td>1</td>\n",
       "      <td>1</td>\n",
       "      <td>1</td>\n",
       "      <td>1</td>\n",
       "      <td>-1</td>\n",
       "      <td>1</td>\n",
       "    </tr>\n",
       "  </tbody>\n",
       "</table>\n",
       "<p>5 rows × 60114 columns</p>\n",
       "</div>"
      ],
      "text/plain": [
       "Group                        SKP                  SKP                  SKP  \\\n",
       "Part Number      SKPS31129063163      SKPS31129063163      SKPS32106774318   \n",
       "Line                           2                    1                    1   \n",
       "Date         2022-11-21 00:00:00  2022-12-11 00:00:00  2022-11-22 00:00:00   \n",
       "Time                       09:07                19:50                08:08   \n",
       "Qty                            1                    1                    1   \n",
       "\n",
       "Group                        SKP                  SKP                  SKP  \\\n",
       "Part Number      SKPS32106774318      SKPS32106774318      SKPS32106774319   \n",
       "Line                           2                    1                    2   \n",
       "Date         2023-01-10 00:00:00  2023-01-10 00:00:00  2022-11-22 00:00:00   \n",
       "Time                       08:22                08:50                08:08   \n",
       "Qty                            1                    1                    1   \n",
       "\n",
       "Group                        SKP                  SKP                  SKP  \\\n",
       "Part Number      SKPS32106774319      SKPS32106774319         SKPSCK620061   \n",
       "Line                           2                    1                    2   \n",
       "Date         2023-01-09 00:00:00  2023-01-10 00:00:00  2023-01-08 00:00:00   \n",
       "Time                       16:28                08:22                18:50   \n",
       "Qty                            1                    1                    1   \n",
       "\n",
       "Group                        SKP  ...                  SKP  \\\n",
       "Part Number         SKPSCK620062  ...           SKPSS10609   \n",
       "Line                          20  ...                    2   \n",
       "Date         2022-11-16 00:00:00  ...  2022-11-30 00:00:00   \n",
       "Time                       15:29  ...                16:12   \n",
       "Qty                            2  ...                    1   \n",
       "\n",
       "Group                        SKP                  SKP                  SKP  \\\n",
       "Part Number           SKPSS10609           SKPSS10609           SKPSS10609   \n",
       "Line                           2                    3                    2   \n",
       "Date         2022-12-21 00:00:00  2023-01-15 00:00:00  2023-01-29 00:00:00   \n",
       "Time                       08:24                20:08                15:37   \n",
       "Qty                            1                    1                    1   \n",
       "\n",
       "Group                        SKP                  SKP                  SKP  \\\n",
       "Part Number           SKPSS10610           SKPSS10610           SKPSS10610   \n",
       "Line                           1                    1                    2   \n",
       "Date         2022-11-01 00:00:00  2022-11-30 00:00:00  2023-01-15 00:00:00   \n",
       "Time                       08:16                16:12                20:08   \n",
       "Qty                            1                    1                    1   \n",
       "\n",
       "Group                        SKP                  SKP                  SKP  \n",
       "Part Number           SKPSS10610          SKPSS251073          SKPSS251073  \n",
       "Line                           1                    1                    2  \n",
       "Date         2023-01-29 00:00:00  2022-11-08 00:00:00  2022-11-10 00:00:00  \n",
       "Time                       15:37                12:01                08:36  \n",
       "Qty                            1                   -1                    1  \n",
       "\n",
       "[5 rows x 60114 columns]"
      ]
     },
     "execution_count": 18,
     "metadata": {},
     "output_type": "execute_result"
    }
   ],
   "source": [
    "skp_ts1 = ts1.loc['SKP'].sum()\n",
    "display(skp_ts1)"
   ]
  },
  {
   "cell_type": "code",
   "execution_count": 20,
   "metadata": {},
   "outputs": [],
   "source": [
    "def plot_results(data1, data2, data3):\n",
    "    with plt.style.context(['seaborn-muted', 'dark_background']):\n",
    "        fig, ax = plt.subplots(3,1,figsize=(20,15))\n",
    "        sns.lineplot(data=data1, x='Date', y='Cost', ax=ax[0])\n",
    "        sns.lineplot(data=data2, x='Date', y='Cost', ax=ax[1])\n",
    "        sns.lineplot(data=data3, x='Date', y='Cost', ax=ax[2])"
   ]
  },
  {
   "cell_type": "code",
   "execution_count": 22,
   "metadata": {},
   "outputs": [],
   "source": [
    "plot_results(ts1)"
   ]
  }
 ],
 "metadata": {
  "hide_input": false,
  "kernelspec": {
   "display_name": "Python 3 (ipykernel)",
   "language": "python",
   "name": "python3"
  },
  "language_info": {
   "codemirror_mode": {
    "name": "ipython",
    "version": 3
   },
   "file_extension": ".py",
   "mimetype": "text/x-python",
   "name": "python",
   "nbconvert_exporter": "python",
   "pygments_lexer": "ipython3",
   "version": "3.9.13"
  },
  "nbTranslate": {
   "displayLangs": [
    "*"
   ],
   "hotkey": "alt-t",
   "langInMainMenu": true,
   "sourceLang": "en",
   "targetLang": "fr",
   "useGoogleTranslate": true
  },
  "toc": {
   "base_numbering": 1,
   "nav_menu": {},
   "number_sections": true,
   "sideBar": true,
   "skip_h1_title": false,
   "title_cell": "Table of Contents",
   "title_sidebar": "Contents",
   "toc_cell": false,
   "toc_position": {},
   "toc_section_display": true,
   "toc_window_display": false
  },
  "varInspector": {
   "cols": {
    "lenName": 16,
    "lenType": 16,
    "lenVar": 40
   },
   "kernels_config": {
    "python": {
     "delete_cmd_postfix": "",
     "delete_cmd_prefix": "del ",
     "library": "var_list.py",
     "varRefreshCmd": "print(var_dic_list())"
    },
    "r": {
     "delete_cmd_postfix": ") ",
     "delete_cmd_prefix": "rm(",
     "library": "var_list.r",
     "varRefreshCmd": "cat(var_dic_list()) "
    }
   },
   "types_to_exclude": [
    "module",
    "function",
    "builtin_function_or_method",
    "instance",
    "_Feature"
   ],
   "window_display": false
  },
  "vscode": {
   "interpreter": {
    "hash": "7ff33bb1d8c88f86dd74f1de65935fb5d737ee676ec7fada7be4c0855fdf81de"
   }
  }
 },
 "nbformat": 4,
 "nbformat_minor": 2
}
