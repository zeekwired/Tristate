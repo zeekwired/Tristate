{
 "cells": [
  {
   "cell_type": "code",
   "execution_count": 5,
   "id": "53bd4e34",
   "metadata": {
    "ExecuteTime": {
     "end_time": "2023-02-08T20:03:44.417182Z",
     "start_time": "2023-02-08T20:03:44.402561Z"
    }
   },
   "outputs": [],
   "source": [
    "import pandas as pd\n",
    "import numpy as np\n",
    "import matplotlib.pyplot as plt\n",
    "import seaborn as sns"
   ]
  },
  {
   "cell_type": "code",
   "execution_count": 7,
   "id": "e9304afa",
   "metadata": {
    "ExecuteTime": {
     "end_time": "2023-02-08T20:04:36.382231Z",
     "start_time": "2023-02-08T20:04:36.183647Z"
    }
   },
   "outputs": [],
   "source": [
    "df_jan = pd.read_csv(r'223PSC_Jan.csv', encoding='unicode_escape')\n",
    "df_nov = pd.read_csv(r'223PSC_Nov.csv', encoding='unicode_escape')"
   ]
  },
  {
   "cell_type": "code",
   "execution_count": 8,
   "id": "5c0b76b2",
   "metadata": {
    "ExecuteTime": {
     "end_time": "2023-02-08T20:04:53.670886Z",
     "start_time": "2023-02-08T20:04:53.645233Z"
    }
   },
   "outputs": [
    {
     "data": {
      "text/html": [
       "<div>\n",
       "<style scoped>\n",
       "    .dataframe tbody tr th:only-of-type {\n",
       "        vertical-align: middle;\n",
       "    }\n",
       "\n",
       "    .dataframe tbody tr th {\n",
       "        vertical-align: top;\n",
       "    }\n",
       "\n",
       "    .dataframe thead th {\n",
       "        text-align: right;\n",
       "    }\n",
       "</style>\n",
       "<table border=\"1\" class=\"dataframe\">\n",
       "  <thead>\n",
       "    <tr style=\"text-align: right;\">\n",
       "      <th></th>\n",
       "      <th>Cust</th>\n",
       "      <th>Customer Name</th>\n",
       "      <th>Group</th>\n",
       "      <th>Part Number</th>\n",
       "      <th>Description</th>\n",
       "      <th>Doc</th>\n",
       "      <th>Line</th>\n",
       "      <th>Date</th>\n",
       "      <th>Time</th>\n",
       "      <th>Qty</th>\n",
       "      <th>Unit</th>\n",
       "      <th>Disc%</th>\n",
       "      <th>Tot Goods</th>\n",
       "    </tr>\n",
       "  </thead>\n",
       "  <tbody>\n",
       "    <tr>\n",
       "      <th>0</th>\n",
       "      <td>193750</td>\n",
       "      <td>ROCK AUTO LLC</td>\n",
       "      <td>ACD</td>\n",
       "      <td>ACD1</td>\n",
       "      <td>SPARK PLUG ASM-19307139</td>\n",
       "      <td>02V2077341</td>\n",
       "      <td>2</td>\n",
       "      <td>Jan 04 23</td>\n",
       "      <td>15:39</td>\n",
       "      <td>6</td>\n",
       "      <td>3.66</td>\n",
       "      <td>NaN</td>\n",
       "      <td>21.96</td>\n",
       "    </tr>\n",
       "    <tr>\n",
       "      <th>1</th>\n",
       "      <td>193750</td>\n",
       "      <td>ROCK AUTO LLC</td>\n",
       "      <td>ACD</td>\n",
       "      <td>ACD10477565</td>\n",
       "      <td>SEALO/PMP DRV(O RING)-104</td>\n",
       "      <td>02V2085767</td>\n",
       "      <td>6</td>\n",
       "      <td>Jan 12 23</td>\n",
       "      <td>16:46</td>\n",
       "      <td>1</td>\n",
       "      <td>2.34</td>\n",
       "      <td>NaN</td>\n",
       "      <td>2.34</td>\n",
       "    </tr>\n",
       "    <tr>\n",
       "      <th>2</th>\n",
       "      <td>193750</td>\n",
       "      <td>ROCK AUTO LLC</td>\n",
       "      <td>ACD</td>\n",
       "      <td>ACD10477565</td>\n",
       "      <td>SEALO/PMP DRV(O RING)-104</td>\n",
       "      <td>02V2089092</td>\n",
       "      <td>1</td>\n",
       "      <td>Jan 15 23</td>\n",
       "      <td>20:48</td>\n",
       "      <td>1</td>\n",
       "      <td>2.34</td>\n",
       "      <td>NaN</td>\n",
       "      <td>2.34</td>\n",
       "    </tr>\n",
       "    <tr>\n",
       "      <th>3</th>\n",
       "      <td>193750</td>\n",
       "      <td>ROCK AUTO LLC</td>\n",
       "      <td>ACD</td>\n",
       "      <td>ACD11M23</td>\n",
       "      <td>MOTOR KITFRT S/D WDO REG-</td>\n",
       "      <td>02V2096812</td>\n",
       "      <td>3</td>\n",
       "      <td>Jan 22 23</td>\n",
       "      <td>20:38</td>\n",
       "      <td>1</td>\n",
       "      <td>26.05</td>\n",
       "      <td>NaN</td>\n",
       "      <td>26.05</td>\n",
       "    </tr>\n",
       "    <tr>\n",
       "      <th>4</th>\n",
       "      <td>193750</td>\n",
       "      <td>ROCK AUTO LLC</td>\n",
       "      <td>ACD</td>\n",
       "      <td>ACD12337894</td>\n",
       "      <td>GASKETOIL FLTR ADAP-12337</td>\n",
       "      <td>02V2085767</td>\n",
       "      <td>3</td>\n",
       "      <td>Jan 12 23</td>\n",
       "      <td>16:46</td>\n",
       "      <td>1</td>\n",
       "      <td>0.08</td>\n",
       "      <td>NaN</td>\n",
       "      <td>0.08</td>\n",
       "    </tr>\n",
       "  </tbody>\n",
       "</table>\n",
       "</div>"
      ],
      "text/plain": [
       "     Cust  Customer Name Group  Part Number                Description  \\\n",
       "0  193750  ROCK AUTO LLC   ACD         ACD1    SPARK PLUG ASM-19307139   \n",
       "1  193750  ROCK AUTO LLC   ACD  ACD10477565  SEALO/PMP DRV(O RING)-104   \n",
       "2  193750  ROCK AUTO LLC   ACD  ACD10477565  SEALO/PMP DRV(O RING)-104   \n",
       "3  193750  ROCK AUTO LLC   ACD     ACD11M23  MOTOR KITFRT S/D WDO REG-   \n",
       "4  193750  ROCK AUTO LLC   ACD  ACD12337894  GASKETOIL FLTR ADAP-12337   \n",
       "\n",
       "          Doc  Line       Date   Time  Qty   Unit  Disc%  Tot Goods  \n",
       "0  02V2077341     2  Jan 04 23  15:39    6   3.66    NaN      21.96  \n",
       "1  02V2085767     6  Jan 12 23  16:46    1   2.34    NaN       2.34  \n",
       "2  02V2089092     1  Jan 15 23  20:48    1   2.34    NaN       2.34  \n",
       "3  02V2096812     3  Jan 22 23  20:38    1  26.05    NaN      26.05  \n",
       "4  02V2085767     3  Jan 12 23  16:46    1   0.08    NaN       0.08  "
      ]
     },
     "execution_count": 8,
     "metadata": {},
     "output_type": "execute_result"
    }
   ],
   "source": [
    "df_jan.head()"
   ]
  },
  {
   "cell_type": "code",
   "execution_count": 9,
   "id": "194bb4ae",
   "metadata": {
    "ExecuteTime": {
     "end_time": "2023-02-08T20:05:26.807118Z",
     "start_time": "2023-02-08T20:05:26.786511Z"
    }
   },
   "outputs": [
    {
     "data": {
      "text/html": [
       "<div>\n",
       "<style scoped>\n",
       "    .dataframe tbody tr th:only-of-type {\n",
       "        vertical-align: middle;\n",
       "    }\n",
       "\n",
       "    .dataframe tbody tr th {\n",
       "        vertical-align: top;\n",
       "    }\n",
       "\n",
       "    .dataframe thead th {\n",
       "        text-align: right;\n",
       "    }\n",
       "</style>\n",
       "<table border=\"1\" class=\"dataframe\">\n",
       "  <thead>\n",
       "    <tr style=\"text-align: right;\">\n",
       "      <th></th>\n",
       "      <th>Cust</th>\n",
       "      <th>Customer Name</th>\n",
       "      <th>Group</th>\n",
       "      <th>Part Number</th>\n",
       "      <th>Description</th>\n",
       "      <th>Doc</th>\n",
       "      <th>Line</th>\n",
       "      <th>Date</th>\n",
       "      <th>Time</th>\n",
       "      <th>Qty</th>\n",
       "      <th>Unit</th>\n",
       "      <th>Disc%</th>\n",
       "      <th>Tot Goods</th>\n",
       "    </tr>\n",
       "  </thead>\n",
       "  <tbody>\n",
       "    <tr>\n",
       "      <th>0</th>\n",
       "      <td>193750</td>\n",
       "      <td>ROCK AUTO LLC</td>\n",
       "      <td>ACD</td>\n",
       "      <td>ACD10070107</td>\n",
       "      <td>VALVEHTR AIR BL-10070107</td>\n",
       "      <td>02V2013956</td>\n",
       "      <td>2</td>\n",
       "      <td>Nov 16 22</td>\n",
       "      <td>16:42</td>\n",
       "      <td>1</td>\n",
       "      <td>8.09</td>\n",
       "      <td>NaN</td>\n",
       "      <td>8.09</td>\n",
       "    </tr>\n",
       "    <tr>\n",
       "      <th>1</th>\n",
       "      <td>193750</td>\n",
       "      <td>ROCK AUTO LLC</td>\n",
       "      <td>ACD</td>\n",
       "      <td>ACD11M23</td>\n",
       "      <td>MOTOR KITFRT S/D WDO REG-</td>\n",
       "      <td>02V2013309</td>\n",
       "      <td>3</td>\n",
       "      <td>Nov 16 22</td>\n",
       "      <td>16:35</td>\n",
       "      <td>1</td>\n",
       "      <td>26.05</td>\n",
       "      <td>NaN</td>\n",
       "      <td>26.05</td>\n",
       "    </tr>\n",
       "    <tr>\n",
       "      <th>2</th>\n",
       "      <td>193750</td>\n",
       "      <td>ROCK AUTO LLC</td>\n",
       "      <td>ACD</td>\n",
       "      <td>ACD12337894</td>\n",
       "      <td>GASKETOIL FLTR ADAP-12337</td>\n",
       "      <td>02V2022158</td>\n",
       "      <td>1</td>\n",
       "      <td>Nov 21 22</td>\n",
       "      <td>16:08</td>\n",
       "      <td>1</td>\n",
       "      <td>0.08</td>\n",
       "      <td>NaN</td>\n",
       "      <td>0.08</td>\n",
       "    </tr>\n",
       "    <tr>\n",
       "      <th>3</th>\n",
       "      <td>193750</td>\n",
       "      <td>ROCK AUTO LLC</td>\n",
       "      <td>ACD</td>\n",
       "      <td>ACD12494846</td>\n",
       "      <td>INDICATORWSWA SOLV LVL-12</td>\n",
       "      <td>02V1987660</td>\n",
       "      <td>1</td>\n",
       "      <td>Nov 02 22</td>\n",
       "      <td>16:04</td>\n",
       "      <td>1</td>\n",
       "      <td>17.55</td>\n",
       "      <td>NaN</td>\n",
       "      <td>17.55</td>\n",
       "    </tr>\n",
       "    <tr>\n",
       "      <th>4</th>\n",
       "      <td>193750</td>\n",
       "      <td>ROCK AUTO LLC</td>\n",
       "      <td>ACD</td>\n",
       "      <td>ACD12494846</td>\n",
       "      <td>INDICATORWSWA SOLV LVL-12</td>\n",
       "      <td>02V2016761</td>\n",
       "      <td>2</td>\n",
       "      <td>Nov 18 22</td>\n",
       "      <td>15:40</td>\n",
       "      <td>1</td>\n",
       "      <td>17.55</td>\n",
       "      <td>NaN</td>\n",
       "      <td>17.55</td>\n",
       "    </tr>\n",
       "  </tbody>\n",
       "</table>\n",
       "</div>"
      ],
      "text/plain": [
       "     Cust  Customer Name Group  Part Number                Description  \\\n",
       "0  193750  ROCK AUTO LLC   ACD  ACD10070107   VALVEHTR AIR BL-10070107   \n",
       "1  193750  ROCK AUTO LLC   ACD     ACD11M23  MOTOR KITFRT S/D WDO REG-   \n",
       "2  193750  ROCK AUTO LLC   ACD  ACD12337894  GASKETOIL FLTR ADAP-12337   \n",
       "3  193750  ROCK AUTO LLC   ACD  ACD12494846  INDICATORWSWA SOLV LVL-12   \n",
       "4  193750  ROCK AUTO LLC   ACD  ACD12494846  INDICATORWSWA SOLV LVL-12   \n",
       "\n",
       "          Doc  Line       Date   Time  Qty   Unit  Disc%  Tot Goods  \n",
       "0  02V2013956     2  Nov 16 22  16:42    1   8.09    NaN       8.09  \n",
       "1  02V2013309     3  Nov 16 22  16:35    1  26.05    NaN      26.05  \n",
       "2  02V2022158     1  Nov 21 22  16:08    1   0.08    NaN       0.08  \n",
       "3  02V1987660     1  Nov 02 22  16:04    1  17.55    NaN      17.55  \n",
       "4  02V2016761     2  Nov 18 22  15:40    1  17.55    NaN      17.55  "
      ]
     },
     "execution_count": 9,
     "metadata": {},
     "output_type": "execute_result"
    }
   ],
   "source": [
    "df_nov.head()"
   ]
  },
  {
   "cell_type": "code",
   "execution_count": 10,
   "id": "677e88b5",
   "metadata": {
    "ExecuteTime": {
     "end_time": "2023-02-08T20:07:16.445815Z",
     "start_time": "2023-02-08T20:07:16.425989Z"
    }
   },
   "outputs": [],
   "source": [
    "df_jan.drop(columns=['Cust', 'Customer Name', 'Description', 'Doc', 'Disc%'], inplace=True)"
   ]
  },
  {
   "cell_type": "code",
   "execution_count": 11,
   "id": "8b6a2646",
   "metadata": {
    "ExecuteTime": {
     "end_time": "2023-02-08T20:08:09.750008Z",
     "start_time": "2023-02-08T20:08:09.737604Z"
    }
   },
   "outputs": [],
   "source": [
    "df_nov.drop(columns=['Cust', 'Customer Name', 'Description', 'Doc', 'Disc%'], inplace=True)"
   ]
  },
  {
   "cell_type": "code",
   "execution_count": 12,
   "id": "8ac3012b",
   "metadata": {
    "ExecuteTime": {
     "end_time": "2023-02-08T20:11:38.844471Z",
     "start_time": "2023-02-08T20:11:38.836944Z"
    }
   },
   "outputs": [
    {
     "data": {
      "text/html": [
       "<div>\n",
       "<style scoped>\n",
       "    .dataframe tbody tr th:only-of-type {\n",
       "        vertical-align: middle;\n",
       "    }\n",
       "\n",
       "    .dataframe tbody tr th {\n",
       "        vertical-align: top;\n",
       "    }\n",
       "\n",
       "    .dataframe thead th {\n",
       "        text-align: right;\n",
       "    }\n",
       "</style>\n",
       "<table border=\"1\" class=\"dataframe\">\n",
       "  <thead>\n",
       "    <tr style=\"text-align: right;\">\n",
       "      <th></th>\n",
       "      <th>Group</th>\n",
       "      <th>Part Number</th>\n",
       "      <th>Line</th>\n",
       "      <th>Date</th>\n",
       "      <th>Time</th>\n",
       "      <th>Qty</th>\n",
       "      <th>Unit</th>\n",
       "      <th>Tot Goods</th>\n",
       "    </tr>\n",
       "  </thead>\n",
       "  <tbody>\n",
       "    <tr>\n",
       "      <th>0</th>\n",
       "      <td>ACD</td>\n",
       "      <td>ACD1</td>\n",
       "      <td>2</td>\n",
       "      <td>Jan 04 23</td>\n",
       "      <td>15:39</td>\n",
       "      <td>6</td>\n",
       "      <td>3.66</td>\n",
       "      <td>21.96</td>\n",
       "    </tr>\n",
       "    <tr>\n",
       "      <th>1</th>\n",
       "      <td>ACD</td>\n",
       "      <td>ACD10477565</td>\n",
       "      <td>6</td>\n",
       "      <td>Jan 12 23</td>\n",
       "      <td>16:46</td>\n",
       "      <td>1</td>\n",
       "      <td>2.34</td>\n",
       "      <td>2.34</td>\n",
       "    </tr>\n",
       "    <tr>\n",
       "      <th>2</th>\n",
       "      <td>ACD</td>\n",
       "      <td>ACD10477565</td>\n",
       "      <td>1</td>\n",
       "      <td>Jan 15 23</td>\n",
       "      <td>20:48</td>\n",
       "      <td>1</td>\n",
       "      <td>2.34</td>\n",
       "      <td>2.34</td>\n",
       "    </tr>\n",
       "    <tr>\n",
       "      <th>3</th>\n",
       "      <td>ACD</td>\n",
       "      <td>ACD11M23</td>\n",
       "      <td>3</td>\n",
       "      <td>Jan 22 23</td>\n",
       "      <td>20:38</td>\n",
       "      <td>1</td>\n",
       "      <td>26.05</td>\n",
       "      <td>26.05</td>\n",
       "    </tr>\n",
       "    <tr>\n",
       "      <th>4</th>\n",
       "      <td>ACD</td>\n",
       "      <td>ACD12337894</td>\n",
       "      <td>3</td>\n",
       "      <td>Jan 12 23</td>\n",
       "      <td>16:46</td>\n",
       "      <td>1</td>\n",
       "      <td>0.08</td>\n",
       "      <td>0.08</td>\n",
       "    </tr>\n",
       "  </tbody>\n",
       "</table>\n",
       "</div>"
      ],
      "text/plain": [
       "  Group  Part Number  Line       Date   Time  Qty   Unit  Tot Goods\n",
       "0   ACD         ACD1     2  Jan 04 23  15:39    6   3.66      21.96\n",
       "1   ACD  ACD10477565     6  Jan 12 23  16:46    1   2.34       2.34\n",
       "2   ACD  ACD10477565     1  Jan 15 23  20:48    1   2.34       2.34\n",
       "3   ACD     ACD11M23     3  Jan 22 23  20:38    1  26.05      26.05\n",
       "4   ACD  ACD12337894     3  Jan 12 23  16:46    1   0.08       0.08"
      ]
     },
     "execution_count": 12,
     "metadata": {},
     "output_type": "execute_result"
    }
   ],
   "source": [
    "df_jan.head()"
   ]
  },
  {
   "cell_type": "code",
   "execution_count": 13,
   "id": "4ef4eb51",
   "metadata": {
    "ExecuteTime": {
     "end_time": "2023-02-08T20:11:45.917694Z",
     "start_time": "2023-02-08T20:11:45.906717Z"
    }
   },
   "outputs": [
    {
     "data": {
      "text/html": [
       "<div>\n",
       "<style scoped>\n",
       "    .dataframe tbody tr th:only-of-type {\n",
       "        vertical-align: middle;\n",
       "    }\n",
       "\n",
       "    .dataframe tbody tr th {\n",
       "        vertical-align: top;\n",
       "    }\n",
       "\n",
       "    .dataframe thead th {\n",
       "        text-align: right;\n",
       "    }\n",
       "</style>\n",
       "<table border=\"1\" class=\"dataframe\">\n",
       "  <thead>\n",
       "    <tr style=\"text-align: right;\">\n",
       "      <th></th>\n",
       "      <th>Group</th>\n",
       "      <th>Part Number</th>\n",
       "      <th>Line</th>\n",
       "      <th>Date</th>\n",
       "      <th>Time</th>\n",
       "      <th>Qty</th>\n",
       "      <th>Unit</th>\n",
       "      <th>Tot Goods</th>\n",
       "    </tr>\n",
       "  </thead>\n",
       "  <tbody>\n",
       "    <tr>\n",
       "      <th>0</th>\n",
       "      <td>ACD</td>\n",
       "      <td>ACD10070107</td>\n",
       "      <td>2</td>\n",
       "      <td>Nov 16 22</td>\n",
       "      <td>16:42</td>\n",
       "      <td>1</td>\n",
       "      <td>8.09</td>\n",
       "      <td>8.09</td>\n",
       "    </tr>\n",
       "    <tr>\n",
       "      <th>1</th>\n",
       "      <td>ACD</td>\n",
       "      <td>ACD11M23</td>\n",
       "      <td>3</td>\n",
       "      <td>Nov 16 22</td>\n",
       "      <td>16:35</td>\n",
       "      <td>1</td>\n",
       "      <td>26.05</td>\n",
       "      <td>26.05</td>\n",
       "    </tr>\n",
       "    <tr>\n",
       "      <th>2</th>\n",
       "      <td>ACD</td>\n",
       "      <td>ACD12337894</td>\n",
       "      <td>1</td>\n",
       "      <td>Nov 21 22</td>\n",
       "      <td>16:08</td>\n",
       "      <td>1</td>\n",
       "      <td>0.08</td>\n",
       "      <td>0.08</td>\n",
       "    </tr>\n",
       "    <tr>\n",
       "      <th>3</th>\n",
       "      <td>ACD</td>\n",
       "      <td>ACD12494846</td>\n",
       "      <td>1</td>\n",
       "      <td>Nov 02 22</td>\n",
       "      <td>16:04</td>\n",
       "      <td>1</td>\n",
       "      <td>17.55</td>\n",
       "      <td>17.55</td>\n",
       "    </tr>\n",
       "    <tr>\n",
       "      <th>4</th>\n",
       "      <td>ACD</td>\n",
       "      <td>ACD12494846</td>\n",
       "      <td>2</td>\n",
       "      <td>Nov 18 22</td>\n",
       "      <td>15:40</td>\n",
       "      <td>1</td>\n",
       "      <td>17.55</td>\n",
       "      <td>17.55</td>\n",
       "    </tr>\n",
       "  </tbody>\n",
       "</table>\n",
       "</div>"
      ],
      "text/plain": [
       "  Group  Part Number  Line       Date   Time  Qty   Unit  Tot Goods\n",
       "0   ACD  ACD10070107     2  Nov 16 22  16:42    1   8.09       8.09\n",
       "1   ACD     ACD11M23     3  Nov 16 22  16:35    1  26.05      26.05\n",
       "2   ACD  ACD12337894     1  Nov 21 22  16:08    1   0.08       0.08\n",
       "3   ACD  ACD12494846     1  Nov 02 22  16:04    1  17.55      17.55\n",
       "4   ACD  ACD12494846     2  Nov 18 22  15:40    1  17.55      17.55"
      ]
     },
     "execution_count": 13,
     "metadata": {},
     "output_type": "execute_result"
    }
   ],
   "source": [
    "df_nov.head()"
   ]
  },
  {
   "cell_type": "code",
   "execution_count": 15,
   "id": "46be2fc4",
   "metadata": {
    "ExecuteTime": {
     "end_time": "2023-02-08T20:14:03.972100Z",
     "start_time": "2023-02-08T20:14:03.911403Z"
    }
   },
   "outputs": [
    {
     "name": "stdout",
     "output_type": "stream",
     "text": [
      "185\n",
      "263\n"
     ]
    }
   ],
   "source": [
    "print(df_jan.duplicated().sum())\n",
    "print(df_nov.duplicated().sum())"
   ]
  },
  {
   "cell_type": "code",
   "execution_count": 16,
   "id": "213cb56f",
   "metadata": {
    "ExecuteTime": {
     "end_time": "2023-02-08T20:14:54.759278Z",
     "start_time": "2023-02-08T20:14:54.675716Z"
    }
   },
   "outputs": [],
   "source": [
    "df_jan.drop_duplicates(inplace=True)\n",
    "df_nov.drop_duplicates(inplace=True)"
   ]
  },
  {
   "cell_type": "code",
   "execution_count": 17,
   "id": "c9a63834",
   "metadata": {
    "ExecuteTime": {
     "end_time": "2023-02-08T20:15:34.386049Z",
     "start_time": "2023-02-08T20:15:34.330629Z"
    }
   },
   "outputs": [
    {
     "name": "stdout",
     "output_type": "stream",
     "text": [
      "Group          0\n",
      "Part Number    0\n",
      "Line           0\n",
      "Date           0\n",
      "Time           0\n",
      "Qty            0\n",
      "Unit           0\n",
      "Tot Goods      0\n",
      "dtype: int64\n",
      "Group          1\n",
      "Part Number    0\n",
      "Line           0\n",
      "Date           0\n",
      "Time           0\n",
      "Qty            0\n",
      "Unit           0\n",
      "Tot Goods      0\n",
      "dtype: int64\n"
     ]
    }
   ],
   "source": [
    "print(df_jan.isna().sum())\n",
    "print(df_nov.isna().sum())"
   ]
  },
  {
   "cell_type": "code",
   "execution_count": 18,
   "id": "f5bb8e0b",
   "metadata": {
    "ExecuteTime": {
     "end_time": "2023-02-08T20:16:23.801170Z",
     "start_time": "2023-02-08T20:16:23.756848Z"
    }
   },
   "outputs": [],
   "source": [
    "df_nov.dropna(inplace=True)"
   ]
  },
  {
   "cell_type": "code",
   "execution_count": 19,
   "id": "71800838",
   "metadata": {
    "ExecuteTime": {
     "end_time": "2023-02-08T20:16:59.048767Z",
     "start_time": "2023-02-08T20:16:58.952777Z"
    }
   },
   "outputs": [
    {
     "name": "stdout",
     "output_type": "stream",
     "text": [
      "Group          0\n",
      "Part Number    0\n",
      "Line           0\n",
      "Date           0\n",
      "Time           0\n",
      "Qty            0\n",
      "Unit           0\n",
      "Tot Goods      0\n",
      "dtype: int64\n",
      "0\n",
      "Group          0\n",
      "Part Number    0\n",
      "Line           0\n",
      "Date           0\n",
      "Time           0\n",
      "Qty            0\n",
      "Unit           0\n",
      "Tot Goods      0\n",
      "dtype: int64\n",
      "0\n"
     ]
    }
   ],
   "source": [
    "print(df_jan.isna().sum())\n",
    "print(df_jan.duplicated().sum())\n",
    "print(df_nov.isna().sum())\n",
    "print(df_nov.duplicated().sum())"
   ]
  },
  {
   "cell_type": "code",
   "execution_count": null,
   "id": "54fe40b8",
   "metadata": {},
   "outputs": [],
   "source": [
    "def plot_line(x, y)\n",
    "    with plt.style.context('ggplot'):\n",
    "        list = [df_jan, df_nov]\n",
    "        for i, col in enumerate(list):\n",
    "            sns.lineplot(x=col[x], y=col[y], hue=col.columns[0])\n",
    "    plt.show()\n",
    "    \n",
    "plot_line()"
   ]
  }
 ],
 "metadata": {
  "hide_input": false,
  "kernelspec": {
   "display_name": "Python 3 (ipykernel)",
   "language": "python",
   "name": "python3"
  },
  "language_info": {
   "codemirror_mode": {
    "name": "ipython",
    "version": 3
   },
   "file_extension": ".py",
   "mimetype": "text/x-python",
   "name": "python",
   "nbconvert_exporter": "python",
   "pygments_lexer": "ipython3",
   "version": "3.9.13"
  },
  "nbTranslate": {
   "displayLangs": [
    "*"
   ],
   "hotkey": "alt-t",
   "langInMainMenu": true,
   "sourceLang": "en",
   "targetLang": "fr",
   "useGoogleTranslate": true
  },
  "toc": {
   "base_numbering": 1,
   "nav_menu": {},
   "number_sections": true,
   "sideBar": true,
   "skip_h1_title": false,
   "title_cell": "Table of Contents",
   "title_sidebar": "Contents",
   "toc_cell": false,
   "toc_position": {},
   "toc_section_display": true,
   "toc_window_display": false
  },
  "varInspector": {
   "cols": {
    "lenName": 16,
    "lenType": 16,
    "lenVar": 40
   },
   "kernels_config": {
    "python": {
     "delete_cmd_postfix": "",
     "delete_cmd_prefix": "del ",
     "library": "var_list.py",
     "varRefreshCmd": "print(var_dic_list())"
    },
    "r": {
     "delete_cmd_postfix": ") ",
     "delete_cmd_prefix": "rm(",
     "library": "var_list.r",
     "varRefreshCmd": "cat(var_dic_list()) "
    }
   },
   "types_to_exclude": [
    "module",
    "function",
    "builtin_function_or_method",
    "instance",
    "_Feature"
   ],
   "window_display": false
  }
 },
 "nbformat": 4,
 "nbformat_minor": 5
}
