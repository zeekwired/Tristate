{
 "cells": [
  {
   "cell_type": "code",
   "execution_count": 19,
   "id": "53bd4e34",
   "metadata": {
    "ExecuteTime": {
     "end_time": "2023-02-09T17:46:13.980165Z",
     "start_time": "2023-02-09T17:46:13.974516Z"
    }
   },
   "outputs": [],
   "source": [
    "import pandas as pd\n",
    "import numpy as np\n",
    "import matplotlib.pyplot as plt\n",
    "import seaborn as sns"
   ]
  },
  {
   "cell_type": "code",
   "execution_count": 20,
   "id": "e9304afa",
   "metadata": {
    "ExecuteTime": {
     "end_time": "2023-02-09T17:46:14.149746Z",
     "start_time": "2023-02-09T17:46:13.981162Z"
    }
   },
   "outputs": [],
   "source": [
    "df_jan = pd.read_csv(r'223PSC_Jan.csv', encoding='unicode_escape')\n",
    "df_nov = pd.read_csv(r'223PSC_Nov.csv', encoding='unicode_escape')"
   ]
  },
  {
   "cell_type": "code",
   "execution_count": 21,
   "id": "ff43982f",
   "metadata": {
    "ExecuteTime": {
     "end_time": "2023-02-09T17:46:14.165703Z",
     "start_time": "2023-02-09T17:46:14.151741Z"
    }
   },
   "outputs": [
    {
     "data": {
      "text/html": [
       "<div>\n",
       "<style scoped>\n",
       "    .dataframe tbody tr th:only-of-type {\n",
       "        vertical-align: middle;\n",
       "    }\n",
       "\n",
       "    .dataframe tbody tr th {\n",
       "        vertical-align: top;\n",
       "    }\n",
       "\n",
       "    .dataframe thead th {\n",
       "        text-align: right;\n",
       "    }\n",
       "</style>\n",
       "<table border=\"1\" class=\"dataframe\">\n",
       "  <thead>\n",
       "    <tr style=\"text-align: right;\">\n",
       "      <th></th>\n",
       "      <th>Cust</th>\n",
       "      <th>Customer Name</th>\n",
       "      <th>Group</th>\n",
       "      <th>Part Number</th>\n",
       "      <th>Description</th>\n",
       "      <th>Doc</th>\n",
       "      <th>Line</th>\n",
       "      <th>Date</th>\n",
       "      <th>Time</th>\n",
       "      <th>Qty</th>\n",
       "      <th>Unit</th>\n",
       "      <th>Disc%</th>\n",
       "      <th>Tot Goods</th>\n",
       "    </tr>\n",
       "  </thead>\n",
       "  <tbody>\n",
       "    <tr>\n",
       "      <th>0</th>\n",
       "      <td>193750</td>\n",
       "      <td>ROCK AUTO LLC</td>\n",
       "      <td>ACD</td>\n",
       "      <td>ACD1</td>\n",
       "      <td>SPARK PLUG ASM-19307139</td>\n",
       "      <td>02V2077341</td>\n",
       "      <td>2</td>\n",
       "      <td>Jan 04 23</td>\n",
       "      <td>15:39</td>\n",
       "      <td>6</td>\n",
       "      <td>3.66</td>\n",
       "      <td>NaN</td>\n",
       "      <td>21.96</td>\n",
       "    </tr>\n",
       "    <tr>\n",
       "      <th>1</th>\n",
       "      <td>193750</td>\n",
       "      <td>ROCK AUTO LLC</td>\n",
       "      <td>ACD</td>\n",
       "      <td>ACD10477565</td>\n",
       "      <td>SEALO/PMP DRV(O RING)-104</td>\n",
       "      <td>02V2085767</td>\n",
       "      <td>6</td>\n",
       "      <td>Jan 12 23</td>\n",
       "      <td>16:46</td>\n",
       "      <td>1</td>\n",
       "      <td>2.34</td>\n",
       "      <td>NaN</td>\n",
       "      <td>2.34</td>\n",
       "    </tr>\n",
       "    <tr>\n",
       "      <th>2</th>\n",
       "      <td>193750</td>\n",
       "      <td>ROCK AUTO LLC</td>\n",
       "      <td>ACD</td>\n",
       "      <td>ACD10477565</td>\n",
       "      <td>SEALO/PMP DRV(O RING)-104</td>\n",
       "      <td>02V2089092</td>\n",
       "      <td>1</td>\n",
       "      <td>Jan 15 23</td>\n",
       "      <td>20:48</td>\n",
       "      <td>1</td>\n",
       "      <td>2.34</td>\n",
       "      <td>NaN</td>\n",
       "      <td>2.34</td>\n",
       "    </tr>\n",
       "    <tr>\n",
       "      <th>3</th>\n",
       "      <td>193750</td>\n",
       "      <td>ROCK AUTO LLC</td>\n",
       "      <td>ACD</td>\n",
       "      <td>ACD11M23</td>\n",
       "      <td>MOTOR KITFRT S/D WDO REG-</td>\n",
       "      <td>02V2096812</td>\n",
       "      <td>3</td>\n",
       "      <td>Jan 22 23</td>\n",
       "      <td>20:38</td>\n",
       "      <td>1</td>\n",
       "      <td>26.05</td>\n",
       "      <td>NaN</td>\n",
       "      <td>26.05</td>\n",
       "    </tr>\n",
       "    <tr>\n",
       "      <th>4</th>\n",
       "      <td>193750</td>\n",
       "      <td>ROCK AUTO LLC</td>\n",
       "      <td>ACD</td>\n",
       "      <td>ACD12337894</td>\n",
       "      <td>GASKETOIL FLTR ADAP-12337</td>\n",
       "      <td>02V2085767</td>\n",
       "      <td>3</td>\n",
       "      <td>Jan 12 23</td>\n",
       "      <td>16:46</td>\n",
       "      <td>1</td>\n",
       "      <td>0.08</td>\n",
       "      <td>NaN</td>\n",
       "      <td>0.08</td>\n",
       "    </tr>\n",
       "  </tbody>\n",
       "</table>\n",
       "</div>"
      ],
      "text/plain": [
       "     Cust  Customer Name Group  Part Number                Description  \\\n",
       "0  193750  ROCK AUTO LLC   ACD         ACD1    SPARK PLUG ASM-19307139   \n",
       "1  193750  ROCK AUTO LLC   ACD  ACD10477565  SEALO/PMP DRV(O RING)-104   \n",
       "2  193750  ROCK AUTO LLC   ACD  ACD10477565  SEALO/PMP DRV(O RING)-104   \n",
       "3  193750  ROCK AUTO LLC   ACD     ACD11M23  MOTOR KITFRT S/D WDO REG-   \n",
       "4  193750  ROCK AUTO LLC   ACD  ACD12337894  GASKETOIL FLTR ADAP-12337   \n",
       "\n",
       "          Doc  Line       Date   Time  Qty   Unit  Disc%  Tot Goods  \n",
       "0  02V2077341     2  Jan 04 23  15:39    6   3.66    NaN      21.96  \n",
       "1  02V2085767     6  Jan 12 23  16:46    1   2.34    NaN       2.34  \n",
       "2  02V2089092     1  Jan 15 23  20:48    1   2.34    NaN       2.34  \n",
       "3  02V2096812     3  Jan 22 23  20:38    1  26.05    NaN      26.05  \n",
       "4  02V2085767     3  Jan 12 23  16:46    1   0.08    NaN       0.08  "
      ]
     },
     "execution_count": 21,
     "metadata": {},
     "output_type": "execute_result"
    }
   ],
   "source": [
    "df_jan.head()"
   ]
  },
  {
   "cell_type": "code",
   "execution_count": 22,
   "id": "cef90fd0",
   "metadata": {
    "ExecuteTime": {
     "end_time": "2023-02-09T17:46:14.180664Z",
     "start_time": "2023-02-09T17:46:14.167699Z"
    }
   },
   "outputs": [
    {
     "data": {
      "text/html": [
       "<div>\n",
       "<style scoped>\n",
       "    .dataframe tbody tr th:only-of-type {\n",
       "        vertical-align: middle;\n",
       "    }\n",
       "\n",
       "    .dataframe tbody tr th {\n",
       "        vertical-align: top;\n",
       "    }\n",
       "\n",
       "    .dataframe thead th {\n",
       "        text-align: right;\n",
       "    }\n",
       "</style>\n",
       "<table border=\"1\" class=\"dataframe\">\n",
       "  <thead>\n",
       "    <tr style=\"text-align: right;\">\n",
       "      <th></th>\n",
       "      <th>Cust</th>\n",
       "      <th>Customer Name</th>\n",
       "      <th>Group</th>\n",
       "      <th>Part Number</th>\n",
       "      <th>Description</th>\n",
       "      <th>Doc</th>\n",
       "      <th>Line</th>\n",
       "      <th>Date</th>\n",
       "      <th>Time</th>\n",
       "      <th>Qty</th>\n",
       "      <th>Unit</th>\n",
       "      <th>Disc%</th>\n",
       "      <th>Tot Goods</th>\n",
       "    </tr>\n",
       "  </thead>\n",
       "  <tbody>\n",
       "    <tr>\n",
       "      <th>0</th>\n",
       "      <td>193750</td>\n",
       "      <td>ROCK AUTO LLC</td>\n",
       "      <td>ACD</td>\n",
       "      <td>ACD10070107</td>\n",
       "      <td>VALVEHTR AIR BL-10070107</td>\n",
       "      <td>02V2013956</td>\n",
       "      <td>2</td>\n",
       "      <td>Nov 16 22</td>\n",
       "      <td>16:42</td>\n",
       "      <td>1</td>\n",
       "      <td>8.09</td>\n",
       "      <td>NaN</td>\n",
       "      <td>8.09</td>\n",
       "    </tr>\n",
       "    <tr>\n",
       "      <th>1</th>\n",
       "      <td>193750</td>\n",
       "      <td>ROCK AUTO LLC</td>\n",
       "      <td>ACD</td>\n",
       "      <td>ACD11M23</td>\n",
       "      <td>MOTOR KITFRT S/D WDO REG-</td>\n",
       "      <td>02V2013309</td>\n",
       "      <td>3</td>\n",
       "      <td>Nov 16 22</td>\n",
       "      <td>16:35</td>\n",
       "      <td>1</td>\n",
       "      <td>26.05</td>\n",
       "      <td>NaN</td>\n",
       "      <td>26.05</td>\n",
       "    </tr>\n",
       "    <tr>\n",
       "      <th>2</th>\n",
       "      <td>193750</td>\n",
       "      <td>ROCK AUTO LLC</td>\n",
       "      <td>ACD</td>\n",
       "      <td>ACD12337894</td>\n",
       "      <td>GASKETOIL FLTR ADAP-12337</td>\n",
       "      <td>02V2022158</td>\n",
       "      <td>1</td>\n",
       "      <td>Nov 21 22</td>\n",
       "      <td>16:08</td>\n",
       "      <td>1</td>\n",
       "      <td>0.08</td>\n",
       "      <td>NaN</td>\n",
       "      <td>0.08</td>\n",
       "    </tr>\n",
       "    <tr>\n",
       "      <th>3</th>\n",
       "      <td>193750</td>\n",
       "      <td>ROCK AUTO LLC</td>\n",
       "      <td>ACD</td>\n",
       "      <td>ACD12494846</td>\n",
       "      <td>INDICATORWSWA SOLV LVL-12</td>\n",
       "      <td>02V1987660</td>\n",
       "      <td>1</td>\n",
       "      <td>Nov 02 22</td>\n",
       "      <td>16:04</td>\n",
       "      <td>1</td>\n",
       "      <td>17.55</td>\n",
       "      <td>NaN</td>\n",
       "      <td>17.55</td>\n",
       "    </tr>\n",
       "    <tr>\n",
       "      <th>4</th>\n",
       "      <td>193750</td>\n",
       "      <td>ROCK AUTO LLC</td>\n",
       "      <td>ACD</td>\n",
       "      <td>ACD12494846</td>\n",
       "      <td>INDICATORWSWA SOLV LVL-12</td>\n",
       "      <td>02V2016761</td>\n",
       "      <td>2</td>\n",
       "      <td>Nov 18 22</td>\n",
       "      <td>15:40</td>\n",
       "      <td>1</td>\n",
       "      <td>17.55</td>\n",
       "      <td>NaN</td>\n",
       "      <td>17.55</td>\n",
       "    </tr>\n",
       "  </tbody>\n",
       "</table>\n",
       "</div>"
      ],
      "text/plain": [
       "     Cust  Customer Name Group  Part Number                Description  \\\n",
       "0  193750  ROCK AUTO LLC   ACD  ACD10070107   VALVEHTR AIR BL-10070107   \n",
       "1  193750  ROCK AUTO LLC   ACD     ACD11M23  MOTOR KITFRT S/D WDO REG-   \n",
       "2  193750  ROCK AUTO LLC   ACD  ACD12337894  GASKETOIL FLTR ADAP-12337   \n",
       "3  193750  ROCK AUTO LLC   ACD  ACD12494846  INDICATORWSWA SOLV LVL-12   \n",
       "4  193750  ROCK AUTO LLC   ACD  ACD12494846  INDICATORWSWA SOLV LVL-12   \n",
       "\n",
       "          Doc  Line       Date   Time  Qty   Unit  Disc%  Tot Goods  \n",
       "0  02V2013956     2  Nov 16 22  16:42    1   8.09    NaN       8.09  \n",
       "1  02V2013309     3  Nov 16 22  16:35    1  26.05    NaN      26.05  \n",
       "2  02V2022158     1  Nov 21 22  16:08    1   0.08    NaN       0.08  \n",
       "3  02V1987660     1  Nov 02 22  16:04    1  17.55    NaN      17.55  \n",
       "4  02V2016761     2  Nov 18 22  15:40    1  17.55    NaN      17.55  "
      ]
     },
     "execution_count": 22,
     "metadata": {},
     "output_type": "execute_result"
    }
   ],
   "source": [
    "df_nov.head()"
   ]
  },
  {
   "cell_type": "code",
   "execution_count": 23,
   "id": "65963747",
   "metadata": {
    "ExecuteTime": {
     "end_time": "2023-02-09T17:46:14.195626Z",
     "start_time": "2023-02-09T17:46:14.181660Z"
    }
   },
   "outputs": [],
   "source": [
    "df_jan.drop(columns=['Cust', 'Customer Name', 'Description', 'Doc', 'Disc%'], inplace=True)"
   ]
  },
  {
   "cell_type": "code",
   "execution_count": 24,
   "id": "5dba1682",
   "metadata": {
    "ExecuteTime": {
     "end_time": "2023-02-09T17:46:14.211115Z",
     "start_time": "2023-02-09T17:46:14.196622Z"
    }
   },
   "outputs": [],
   "source": [
    "df_nov.drop(columns=['Cust', 'Customer Name', 'Description', 'Doc', 'Disc%'], inplace=True)"
   ]
  },
  {
   "cell_type": "code",
   "execution_count": 25,
   "id": "d92bbb1d",
   "metadata": {
    "ExecuteTime": {
     "end_time": "2023-02-09T17:46:14.227073Z",
     "start_time": "2023-02-09T17:46:14.213110Z"
    }
   },
   "outputs": [
    {
     "data": {
      "text/html": [
       "<div>\n",
       "<style scoped>\n",
       "    .dataframe tbody tr th:only-of-type {\n",
       "        vertical-align: middle;\n",
       "    }\n",
       "\n",
       "    .dataframe tbody tr th {\n",
       "        vertical-align: top;\n",
       "    }\n",
       "\n",
       "    .dataframe thead th {\n",
       "        text-align: right;\n",
       "    }\n",
       "</style>\n",
       "<table border=\"1\" class=\"dataframe\">\n",
       "  <thead>\n",
       "    <tr style=\"text-align: right;\">\n",
       "      <th></th>\n",
       "      <th>Group</th>\n",
       "      <th>Part Number</th>\n",
       "      <th>Line</th>\n",
       "      <th>Date</th>\n",
       "      <th>Time</th>\n",
       "      <th>Qty</th>\n",
       "      <th>Unit</th>\n",
       "      <th>Tot Goods</th>\n",
       "    </tr>\n",
       "  </thead>\n",
       "  <tbody>\n",
       "    <tr>\n",
       "      <th>0</th>\n",
       "      <td>ACD</td>\n",
       "      <td>ACD1</td>\n",
       "      <td>2</td>\n",
       "      <td>Jan 04 23</td>\n",
       "      <td>15:39</td>\n",
       "      <td>6</td>\n",
       "      <td>3.66</td>\n",
       "      <td>21.96</td>\n",
       "    </tr>\n",
       "    <tr>\n",
       "      <th>1</th>\n",
       "      <td>ACD</td>\n",
       "      <td>ACD10477565</td>\n",
       "      <td>6</td>\n",
       "      <td>Jan 12 23</td>\n",
       "      <td>16:46</td>\n",
       "      <td>1</td>\n",
       "      <td>2.34</td>\n",
       "      <td>2.34</td>\n",
       "    </tr>\n",
       "    <tr>\n",
       "      <th>2</th>\n",
       "      <td>ACD</td>\n",
       "      <td>ACD10477565</td>\n",
       "      <td>1</td>\n",
       "      <td>Jan 15 23</td>\n",
       "      <td>20:48</td>\n",
       "      <td>1</td>\n",
       "      <td>2.34</td>\n",
       "      <td>2.34</td>\n",
       "    </tr>\n",
       "    <tr>\n",
       "      <th>3</th>\n",
       "      <td>ACD</td>\n",
       "      <td>ACD11M23</td>\n",
       "      <td>3</td>\n",
       "      <td>Jan 22 23</td>\n",
       "      <td>20:38</td>\n",
       "      <td>1</td>\n",
       "      <td>26.05</td>\n",
       "      <td>26.05</td>\n",
       "    </tr>\n",
       "    <tr>\n",
       "      <th>4</th>\n",
       "      <td>ACD</td>\n",
       "      <td>ACD12337894</td>\n",
       "      <td>3</td>\n",
       "      <td>Jan 12 23</td>\n",
       "      <td>16:46</td>\n",
       "      <td>1</td>\n",
       "      <td>0.08</td>\n",
       "      <td>0.08</td>\n",
       "    </tr>\n",
       "  </tbody>\n",
       "</table>\n",
       "</div>"
      ],
      "text/plain": [
       "  Group  Part Number  Line       Date   Time  Qty   Unit  Tot Goods\n",
       "0   ACD         ACD1     2  Jan 04 23  15:39    6   3.66      21.96\n",
       "1   ACD  ACD10477565     6  Jan 12 23  16:46    1   2.34       2.34\n",
       "2   ACD  ACD10477565     1  Jan 15 23  20:48    1   2.34       2.34\n",
       "3   ACD     ACD11M23     3  Jan 22 23  20:38    1  26.05      26.05\n",
       "4   ACD  ACD12337894     3  Jan 12 23  16:46    1   0.08       0.08"
      ]
     },
     "execution_count": 25,
     "metadata": {},
     "output_type": "execute_result"
    }
   ],
   "source": [
    "df_jan.head()"
   ]
  },
  {
   "cell_type": "code",
   "execution_count": 26,
   "id": "3fb7fd55",
   "metadata": {
    "ExecuteTime": {
     "end_time": "2023-02-09T17:46:14.243029Z",
     "start_time": "2023-02-09T17:46:14.228070Z"
    }
   },
   "outputs": [
    {
     "data": {
      "text/html": [
       "<div>\n",
       "<style scoped>\n",
       "    .dataframe tbody tr th:only-of-type {\n",
       "        vertical-align: middle;\n",
       "    }\n",
       "\n",
       "    .dataframe tbody tr th {\n",
       "        vertical-align: top;\n",
       "    }\n",
       "\n",
       "    .dataframe thead th {\n",
       "        text-align: right;\n",
       "    }\n",
       "</style>\n",
       "<table border=\"1\" class=\"dataframe\">\n",
       "  <thead>\n",
       "    <tr style=\"text-align: right;\">\n",
       "      <th></th>\n",
       "      <th>Group</th>\n",
       "      <th>Part Number</th>\n",
       "      <th>Line</th>\n",
       "      <th>Date</th>\n",
       "      <th>Time</th>\n",
       "      <th>Qty</th>\n",
       "      <th>Unit</th>\n",
       "      <th>Tot Goods</th>\n",
       "    </tr>\n",
       "  </thead>\n",
       "  <tbody>\n",
       "    <tr>\n",
       "      <th>0</th>\n",
       "      <td>ACD</td>\n",
       "      <td>ACD10070107</td>\n",
       "      <td>2</td>\n",
       "      <td>Nov 16 22</td>\n",
       "      <td>16:42</td>\n",
       "      <td>1</td>\n",
       "      <td>8.09</td>\n",
       "      <td>8.09</td>\n",
       "    </tr>\n",
       "    <tr>\n",
       "      <th>1</th>\n",
       "      <td>ACD</td>\n",
       "      <td>ACD11M23</td>\n",
       "      <td>3</td>\n",
       "      <td>Nov 16 22</td>\n",
       "      <td>16:35</td>\n",
       "      <td>1</td>\n",
       "      <td>26.05</td>\n",
       "      <td>26.05</td>\n",
       "    </tr>\n",
       "    <tr>\n",
       "      <th>2</th>\n",
       "      <td>ACD</td>\n",
       "      <td>ACD12337894</td>\n",
       "      <td>1</td>\n",
       "      <td>Nov 21 22</td>\n",
       "      <td>16:08</td>\n",
       "      <td>1</td>\n",
       "      <td>0.08</td>\n",
       "      <td>0.08</td>\n",
       "    </tr>\n",
       "    <tr>\n",
       "      <th>3</th>\n",
       "      <td>ACD</td>\n",
       "      <td>ACD12494846</td>\n",
       "      <td>1</td>\n",
       "      <td>Nov 02 22</td>\n",
       "      <td>16:04</td>\n",
       "      <td>1</td>\n",
       "      <td>17.55</td>\n",
       "      <td>17.55</td>\n",
       "    </tr>\n",
       "    <tr>\n",
       "      <th>4</th>\n",
       "      <td>ACD</td>\n",
       "      <td>ACD12494846</td>\n",
       "      <td>2</td>\n",
       "      <td>Nov 18 22</td>\n",
       "      <td>15:40</td>\n",
       "      <td>1</td>\n",
       "      <td>17.55</td>\n",
       "      <td>17.55</td>\n",
       "    </tr>\n",
       "  </tbody>\n",
       "</table>\n",
       "</div>"
      ],
      "text/plain": [
       "  Group  Part Number  Line       Date   Time  Qty   Unit  Tot Goods\n",
       "0   ACD  ACD10070107     2  Nov 16 22  16:42    1   8.09       8.09\n",
       "1   ACD     ACD11M23     3  Nov 16 22  16:35    1  26.05      26.05\n",
       "2   ACD  ACD12337894     1  Nov 21 22  16:08    1   0.08       0.08\n",
       "3   ACD  ACD12494846     1  Nov 02 22  16:04    1  17.55      17.55\n",
       "4   ACD  ACD12494846     2  Nov 18 22  15:40    1  17.55      17.55"
      ]
     },
     "execution_count": 26,
     "metadata": {},
     "output_type": "execute_result"
    }
   ],
   "source": [
    "df_nov.head()"
   ]
  },
  {
   "cell_type": "code",
   "execution_count": 27,
   "id": "8299b110",
   "metadata": {
    "ExecuteTime": {
     "end_time": "2023-02-09T17:46:14.287942Z",
     "start_time": "2023-02-09T17:46:14.244028Z"
    }
   },
   "outputs": [
    {
     "name": "stdout",
     "output_type": "stream",
     "text": [
      "185\n",
      "263\n"
     ]
    }
   ],
   "source": [
    "print(df_jan.duplicated().sum())\n",
    "print(df_nov.duplicated().sum())"
   ]
  },
  {
   "cell_type": "code",
   "execution_count": 28,
   "id": "5a83e900",
   "metadata": {
    "ExecuteTime": {
     "end_time": "2023-02-09T17:46:14.334331Z",
     "start_time": "2023-02-09T17:46:14.290934Z"
    }
   },
   "outputs": [],
   "source": [
    "df_jan.drop_duplicates(inplace=True)\n",
    "df_nov.drop_duplicates(inplace=True)"
   ]
  },
  {
   "cell_type": "code",
   "execution_count": 29,
   "id": "10d0eea5",
   "metadata": {
    "ExecuteTime": {
     "end_time": "2023-02-09T17:46:14.381206Z",
     "start_time": "2023-02-09T17:46:14.335329Z"
    }
   },
   "outputs": [
    {
     "name": "stdout",
     "output_type": "stream",
     "text": [
      "Group          0\n",
      "Part Number    0\n",
      "Line           0\n",
      "Date           0\n",
      "Time           0\n",
      "Qty            0\n",
      "Unit           0\n",
      "Tot Goods      0\n",
      "dtype: int64\n",
      "Group          1\n",
      "Part Number    0\n",
      "Line           0\n",
      "Date           0\n",
      "Time           0\n",
      "Qty            0\n",
      "Unit           0\n",
      "Tot Goods      0\n",
      "dtype: int64\n"
     ]
    }
   ],
   "source": [
    "print(df_jan.isna().sum())\n",
    "print(df_nov.isna().sum())"
   ]
  },
  {
   "cell_type": "code",
   "execution_count": 30,
   "id": "785dcf36",
   "metadata": {
    "ExecuteTime": {
     "end_time": "2023-02-09T17:46:14.412643Z",
     "start_time": "2023-02-09T17:46:14.382203Z"
    }
   },
   "outputs": [],
   "source": [
    "df_nov.dropna(inplace=True)"
   ]
  },
  {
   "cell_type": "code",
   "execution_count": 31,
   "id": "70cb4a98",
   "metadata": {
    "ExecuteTime": {
     "end_time": "2023-02-09T17:46:14.488441Z",
     "start_time": "2023-02-09T17:46:14.414638Z"
    }
   },
   "outputs": [
    {
     "name": "stdout",
     "output_type": "stream",
     "text": [
      "Group          0\n",
      "Part Number    0\n",
      "Line           0\n",
      "Date           0\n",
      "Time           0\n",
      "Qty            0\n",
      "Unit           0\n",
      "Tot Goods      0\n",
      "dtype: int64\n",
      "0\n",
      "Group          0\n",
      "Part Number    0\n",
      "Line           0\n",
      "Date           0\n",
      "Time           0\n",
      "Qty            0\n",
      "Unit           0\n",
      "Tot Goods      0\n",
      "dtype: int64\n",
      "0\n"
     ]
    }
   ],
   "source": [
    "print(df_jan.isna().sum())\n",
    "print(df_jan.duplicated().sum())\n",
    "print(df_nov.isna().sum())\n",
    "print(df_nov.duplicated().sum())"
   ]
  },
  {
   "cell_type": "code",
   "execution_count": 32,
   "id": "4cbb13a4",
   "metadata": {
    "ExecuteTime": {
     "end_time": "2023-02-09T17:46:14.503916Z",
     "start_time": "2023-02-09T17:46:14.490438Z"
    }
   },
   "outputs": [],
   "source": [
    "df_jan.rename(columns={'Part Number':'Part', 'Tot Goods':'Total'}, inplace=True)\n",
    "df_nov.rename(columns={'Part Number':'Part', 'Tot Goods':'Total'}, inplace=True)"
   ]
  },
  {
   "cell_type": "code",
   "execution_count": 34,
   "id": "8856e736",
   "metadata": {
    "ExecuteTime": {
     "end_time": "2023-02-09T17:46:14.550791Z",
     "start_time": "2023-02-09T17:46:14.536827Z"
    }
   },
   "outputs": [
    {
     "ename": "SyntaxError",
     "evalue": "invalid syntax (2900143465.py, line 2)",
     "output_type": "error",
     "traceback": [
      "\u001b[1;36m  Cell \u001b[1;32mIn[34], line 2\u001b[1;36m\u001b[0m\n\u001b[1;33m    plt.xticks(rotation=55);\u001b[0m\n\u001b[1;37m    ^\u001b[0m\n\u001b[1;31mSyntaxError\u001b[0m\u001b[1;31m:\u001b[0m invalid syntax\n"
     ]
    }
   ],
   "source": [
    "plt.plot(\n",
    "plt.xticks(rotation=55);\n",
    "plt.legend()"
   ]
  },
  {
   "cell_type": "code",
   "execution_count": 33,
   "id": "59b10021",
   "metadata": {
    "ExecuteTime": {
     "end_time": "2023-02-09T17:46:14.535830Z",
     "start_time": "2023-02-09T17:46:14.504915Z"
    },
    "run_control": {
     "marked": false
    }
   },
   "outputs": [
    {
     "name": "stdout",
     "output_type": "stream",
     "text": [
      "                        Part  Line   Time  Qty   Unit  Total\n",
      "Group Date                                                  \n",
      "ACD   Jan 04 23         ACD1     2  15:39    6   3.66  21.96\n",
      "      Jan 12 23  ACD10477565     6  16:46    1   2.34   2.34\n",
      "      Jan 15 23  ACD10477565     1  20:48    1   2.34   2.34\n",
      "      Jan 22 23     ACD11M23     3  20:38    1  26.05  26.05\n",
      "      Jan 12 23  ACD12337894     3  16:46    1   0.08   0.08\n",
      "                        Part  Line   Time  Qty   Unit  Total\n",
      "Group Date                                                  \n",
      "ACD   Nov 16 22  ACD10070107     2  16:42    1   8.09   8.09\n",
      "      Nov 16 22     ACD11M23     3  16:35    1  26.05  26.05\n",
      "      Nov 21 22  ACD12337894     1  16:08    1   0.08   0.08\n",
      "      Nov 02 22  ACD12494846     1  16:04    1  17.55  17.55\n",
      "      Nov 18 22  ACD12494846     2  15:40    1  17.55  17.55\n"
     ]
    }
   ],
   "source": [
    "plot_df_jan = df_jan.set_index(['Group', 'Date'])\n",
    "plot_df_nov = df_nov.set_index(['Group', 'Date'])\n",
    "\n",
    "print(plot_df_jan.head())\n",
    "print(plot_df_nov.head())"
   ]
  },
  {
   "cell_type": "code",
   "execution_count": null,
   "id": "0d2f2444",
   "metadata": {},
   "outputs": [],
   "source": []
  }
 ],
 "metadata": {
  "gist": {
   "data": {
    "description": "OneDrive/Documents/GitHub/Tristate/TS2 Sales Prediction/SKP Nov-Jan.ipynb",
    "public": false
   },
   "id": ""
  },
  "hide_input": false,
  "kernelspec": {
   "display_name": "Python (dojo-env)",
   "language": "python",
   "name": "dojo-env"
  },
  "language_info": {
   "codemirror_mode": {
    "name": "ipython",
    "version": 3
   },
   "file_extension": ".py",
   "mimetype": "text/x-python",
   "name": "python",
   "nbconvert_exporter": "python",
   "pygments_lexer": "ipython3",
   "version": "3.9.15"
  },
  "nbTranslate": {
   "displayLangs": [
    "en"
   ],
   "hotkey": "alt-t",
   "langInMainMenu": true,
   "sourceLang": "en",
   "targetLang": "fr",
   "useGoogleTranslate": true
  },
  "toc": {
   "base_numbering": 1,
   "nav_menu": {},
   "number_sections": true,
   "sideBar": true,
   "skip_h1_title": false,
   "title_cell": "Table of Contents",
   "title_sidebar": "Contents",
   "toc_cell": false,
   "toc_position": {},
   "toc_section_display": true,
   "toc_window_display": false
  },
  "varInspector": {
   "cols": {
    "lenName": 16,
    "lenType": 16,
    "lenVar": 40
   },
   "kernels_config": {
    "python": {
     "delete_cmd_postfix": "",
     "delete_cmd_prefix": "del ",
     "library": "var_list.py",
     "varRefreshCmd": "print(var_dic_list())"
    },
    "r": {
     "delete_cmd_postfix": ") ",
     "delete_cmd_prefix": "rm(",
     "library": "var_list.r",
     "varRefreshCmd": "cat(var_dic_list()) "
    }
   },
   "types_to_exclude": [
    "module",
    "function",
    "builtin_function_or_method",
    "instance",
    "_Feature"
   ],
   "window_display": false
  },
  "widgets": {
   "application/vnd.jupyter.widget-state+json": {
    "state": {},
    "version_major": 2,
    "version_minor": 0
   }
  }
 },
 "nbformat": 4,
 "nbformat_minor": 5
}
